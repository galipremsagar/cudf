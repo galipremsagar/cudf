{
 "cells": [
  {
   "cell_type": "code",
   "execution_count": 1,
   "metadata": {},
   "outputs": [],
   "source": [
    "import cudf\n",
    "import pandas as pd\n",
    "import numpy as np\n",
    "import time\n",
    "from io import BytesIO\n",
    "import os\n",
    "import timeit"
   ]
  },
  {
   "cell_type": "code",
   "execution_count": 2,
   "metadata": {},
   "outputs": [],
   "source": [
    "np.random.seed(0)"
   ]
  },
  {
   "cell_type": "code",
   "execution_count": 3,
   "metadata": {},
   "outputs": [],
   "source": [
    "pdf = pd.DataFrame({\n",
    "    \"numbers\": np.random.randint(-1000, 1000, 30_000_0000, dtype='int64'),\n",
    "    \"business\": np.random.choice([\"McD\", \"Buckees\", \"Walmart\", \"Costco\"], size=30_000_0000)\n",
    "})"
   ]
  },
  {
   "cell_type": "code",
   "execution_count": 4,
   "metadata": {},
   "outputs": [
    {
     "data": {
      "text/html": [
       "<div>\n",
       "<style scoped>\n",
       "    .dataframe tbody tr th:only-of-type {\n",
       "        vertical-align: middle;\n",
       "    }\n",
       "\n",
       "    .dataframe tbody tr th {\n",
       "        vertical-align: top;\n",
       "    }\n",
       "\n",
       "    .dataframe thead th {\n",
       "        text-align: right;\n",
       "    }\n",
       "</style>\n",
       "<table border=\"1\" class=\"dataframe\">\n",
       "  <thead>\n",
       "    <tr style=\"text-align: right;\">\n",
       "      <th></th>\n",
       "      <th>numbers</th>\n",
       "      <th>business</th>\n",
       "    </tr>\n",
       "  </thead>\n",
       "  <tbody>\n",
       "    <tr>\n",
       "      <th>0</th>\n",
       "      <td>-316</td>\n",
       "      <td>Costco</td>\n",
       "    </tr>\n",
       "    <tr>\n",
       "      <th>1</th>\n",
       "      <td>-441</td>\n",
       "      <td>Costco</td>\n",
       "    </tr>\n",
       "    <tr>\n",
       "      <th>2</th>\n",
       "      <td>653</td>\n",
       "      <td>Buckees</td>\n",
       "    </tr>\n",
       "    <tr>\n",
       "      <th>3</th>\n",
       "      <td>216</td>\n",
       "      <td>Buckees</td>\n",
       "    </tr>\n",
       "    <tr>\n",
       "      <th>4</th>\n",
       "      <td>-165</td>\n",
       "      <td>Walmart</td>\n",
       "    </tr>\n",
       "    <tr>\n",
       "      <th>...</th>\n",
       "      <td>...</td>\n",
       "      <td>...</td>\n",
       "    </tr>\n",
       "    <tr>\n",
       "      <th>299999995</th>\n",
       "      <td>-395</td>\n",
       "      <td>Walmart</td>\n",
       "    </tr>\n",
       "    <tr>\n",
       "      <th>299999996</th>\n",
       "      <td>-653</td>\n",
       "      <td>Buckees</td>\n",
       "    </tr>\n",
       "    <tr>\n",
       "      <th>299999997</th>\n",
       "      <td>364</td>\n",
       "      <td>Buckees</td>\n",
       "    </tr>\n",
       "    <tr>\n",
       "      <th>299999998</th>\n",
       "      <td>159</td>\n",
       "      <td>Buckees</td>\n",
       "    </tr>\n",
       "    <tr>\n",
       "      <th>299999999</th>\n",
       "      <td>-501</td>\n",
       "      <td>Walmart</td>\n",
       "    </tr>\n",
       "  </tbody>\n",
       "</table>\n",
       "<p>300000000 rows × 2 columns</p>\n",
       "</div>"
      ],
      "text/plain": [
       "           numbers business\n",
       "0             -316   Costco\n",
       "1             -441   Costco\n",
       "2              653  Buckees\n",
       "3              216  Buckees\n",
       "4             -165  Walmart\n",
       "...            ...      ...\n",
       "299999995     -395  Walmart\n",
       "299999996     -653  Buckees\n",
       "299999997      364  Buckees\n",
       "299999998      159  Buckees\n",
       "299999999     -501  Walmart\n",
       "\n",
       "[300000000 rows x 2 columns]"
      ]
     },
     "execution_count": 4,
     "metadata": {},
     "output_type": "execute_result"
    }
   ],
   "source": [
    "pdf"
   ]
  },
  {
   "cell_type": "code",
   "execution_count": 5,
   "metadata": {},
   "outputs": [],
   "source": [
    "gdf = cudf.from_pandas(pdf)"
   ]
  },
  {
   "cell_type": "code",
   "execution_count": 6,
   "metadata": {},
   "outputs": [
    {
     "data": {
      "text/html": [
       "<div>\n",
       "<style scoped>\n",
       "    .dataframe tbody tr th:only-of-type {\n",
       "        vertical-align: middle;\n",
       "    }\n",
       "\n",
       "    .dataframe tbody tr th {\n",
       "        vertical-align: top;\n",
       "    }\n",
       "\n",
       "    .dataframe thead th {\n",
       "        text-align: right;\n",
       "    }\n",
       "</style>\n",
       "<table border=\"1\" class=\"dataframe\">\n",
       "  <thead>\n",
       "    <tr style=\"text-align: right;\">\n",
       "      <th></th>\n",
       "      <th>numbers</th>\n",
       "      <th>business</th>\n",
       "    </tr>\n",
       "  </thead>\n",
       "  <tbody>\n",
       "    <tr>\n",
       "      <th>0</th>\n",
       "      <td>-316</td>\n",
       "      <td>Costco</td>\n",
       "    </tr>\n",
       "    <tr>\n",
       "      <th>1</th>\n",
       "      <td>-441</td>\n",
       "      <td>Costco</td>\n",
       "    </tr>\n",
       "    <tr>\n",
       "      <th>2</th>\n",
       "      <td>653</td>\n",
       "      <td>Buckees</td>\n",
       "    </tr>\n",
       "    <tr>\n",
       "      <th>3</th>\n",
       "      <td>216</td>\n",
       "      <td>Buckees</td>\n",
       "    </tr>\n",
       "    <tr>\n",
       "      <th>4</th>\n",
       "      <td>-165</td>\n",
       "      <td>Walmart</td>\n",
       "    </tr>\n",
       "    <tr>\n",
       "      <th>...</th>\n",
       "      <td>...</td>\n",
       "      <td>...</td>\n",
       "    </tr>\n",
       "    <tr>\n",
       "      <th>299999995</th>\n",
       "      <td>-395</td>\n",
       "      <td>Walmart</td>\n",
       "    </tr>\n",
       "    <tr>\n",
       "      <th>299999996</th>\n",
       "      <td>-653</td>\n",
       "      <td>Buckees</td>\n",
       "    </tr>\n",
       "    <tr>\n",
       "      <th>299999997</th>\n",
       "      <td>364</td>\n",
       "      <td>Buckees</td>\n",
       "    </tr>\n",
       "    <tr>\n",
       "      <th>299999998</th>\n",
       "      <td>159</td>\n",
       "      <td>Buckees</td>\n",
       "    </tr>\n",
       "    <tr>\n",
       "      <th>299999999</th>\n",
       "      <td>-501</td>\n",
       "      <td>Walmart</td>\n",
       "    </tr>\n",
       "  </tbody>\n",
       "</table>\n",
       "<p>300000000 rows × 2 columns</p>\n",
       "</div>"
      ],
      "text/plain": [
       "           numbers business\n",
       "0             -316   Costco\n",
       "1             -441   Costco\n",
       "2              653  Buckees\n",
       "3              216  Buckees\n",
       "4             -165  Walmart\n",
       "...            ...      ...\n",
       "299999995     -395  Walmart\n",
       "299999996     -653  Buckees\n",
       "299999997      364  Buckees\n",
       "299999998      159  Buckees\n",
       "299999999     -501  Walmart\n",
       "\n",
       "[300000000 rows x 2 columns]"
      ]
     },
     "execution_count": 6,
     "metadata": {},
     "output_type": "execute_result"
    }
   ],
   "source": [
    "gdf"
   ]
  },
  {
   "cell_type": "code",
   "execution_count": 8,
   "metadata": {},
   "outputs": [],
   "source": [
    "pandas_pq = BytesIO()"
   ]
  },
  {
   "cell_type": "code",
   "execution_count": 9,
   "metadata": {},
   "outputs": [],
   "source": [
    "pandas_to_parquet = timeit.timeit(lambda : pdf.to_parquet(pandas_pq), number=10)"
   ]
  },
  {
   "cell_type": "code",
   "execution_count": 10,
   "metadata": {},
   "outputs": [],
   "source": [
    "cudf_pq = BytesIO()"
   ]
  },
  {
   "cell_type": "code",
   "execution_count": 11,
   "metadata": {},
   "outputs": [],
   "source": [
    "cudf_to_parquet = timeit.timeit(lambda : gdf.to_parquet(cudf_pq), number=10)"
   ]
  },
  {
   "cell_type": "code",
   "execution_count": 12,
   "metadata": {},
   "outputs": [
    {
     "name": "stderr",
     "output_type": "stream",
     "text": [
      "sysctl: setting key \"vm.drop_caches\", ignoring: Read-only file system\n"
     ]
    }
   ],
   "source": [
    "os.system(\"/sbin/sysctl vm.drop_caches=3\")\n",
    "pandas_read_parquet = timeit.timeit(lambda : pd.read_parquet(pandas_pq), number=10)"
   ]
  },
  {
   "cell_type": "code",
   "execution_count": 13,
   "metadata": {},
   "outputs": [
    {
     "name": "stderr",
     "output_type": "stream",
     "text": [
      "sysctl: setting key \"vm.drop_caches\", ignoring: Read-only file system\n"
     ]
    }
   ],
   "source": [
    "os.system(\"/sbin/sysctl vm.drop_caches=3\")\n",
    "cudf_read_parquet = timeit.timeit(lambda : cudf.read_parquet(cudf_pq), number=10)"
   ]
  },
  {
   "cell_type": "code",
   "execution_count": 14,
   "metadata": {},
   "outputs": [],
   "source": [
    "pandas_csv = BytesIO()\n",
    "cudf_csv = BytesIO()\n",
    "pdf = pdf.head(10_000_0000)\n",
    "gdf = gdf.head(10_000_0000)"
   ]
  },
  {
   "cell_type": "code",
   "execution_count": 15,
   "metadata": {},
   "outputs": [],
   "source": [
    "def to_csv_bench(df):\n",
    "    file_obj = BytesIO()\n",
    "    df.to_csv(file_obj)"
   ]
  },
  {
   "cell_type": "code",
   "execution_count": 16,
   "metadata": {},
   "outputs": [],
   "source": [
    "pandas_to_csv = timeit.timeit(lambda : to_csv_bench(pdf), number=2)"
   ]
  },
  {
   "cell_type": "code",
   "execution_count": 17,
   "metadata": {},
   "outputs": [],
   "source": [
    "cudf_to_csv = timeit.timeit(lambda : to_csv_bench(gdf), number=1)"
   ]
  },
  {
   "cell_type": "code",
   "execution_count": 19,
   "metadata": {},
   "outputs": [],
   "source": [
    "pandas_csv = BytesIO()\n",
    "cudf_csv = BytesIO()\n",
    "pdf.to_csv(pandas_csv)\n",
    "gdf.to_csv(cudf_csv)"
   ]
  },
  {
   "cell_type": "code",
   "execution_count": 22,
   "metadata": {},
   "outputs": [],
   "source": [
    "def read_csv_bench(pkg, file_obj):\n",
    "    file_obj.seek(0)\n",
    "    pkg.read_csv(file_obj)"
   ]
  },
  {
   "cell_type": "code",
   "execution_count": 23,
   "metadata": {},
   "outputs": [
    {
     "name": "stderr",
     "output_type": "stream",
     "text": [
      "sysctl: setting key \"vm.drop_caches\", ignoring: Read-only file system\n"
     ]
    }
   ],
   "source": [
    "os.system(\"/sbin/sysctl vm.drop_caches=3\")\n",
    "pandas_read_csv = timeit.timeit(lambda : read_csv_bench(pd, pandas_csv), number=10)"
   ]
  },
  {
   "cell_type": "code",
   "execution_count": 24,
   "metadata": {},
   "outputs": [
    {
     "name": "stderr",
     "output_type": "stream",
     "text": [
      "sysctl: setting key \"vm.drop_caches\", ignoring: Read-only file system\n"
     ]
    }
   ],
   "source": [
    "os.system(\"/sbin/sysctl vm.drop_caches=3\")\n",
    "cudf_read_csv = timeit.timeit(lambda : read_csv_bench(cudf, cudf_csv), number=10)"
   ]
  },
  {
   "cell_type": "code",
   "execution_count": 25,
   "metadata": {},
   "outputs": [],
   "source": [
    "pandas_groupby = timeit.timeit(lambda : pdf.groupby(\"business\").agg([\"min\", \"max\", \"mean\"]), number=10)"
   ]
  },
  {
   "cell_type": "code",
   "execution_count": 26,
   "metadata": {},
   "outputs": [],
   "source": [
    "cudf_groupby = timeit.timeit(lambda : gdf.groupby(\"business\").agg([\"min\", \"max\", \"mean\"]), number=10)"
   ]
  },
  {
   "cell_type": "code",
   "execution_count": 27,
   "metadata": {},
   "outputs": [],
   "source": [
    "# TODO : Remove this memory limitation(from pandas side) slicing \n",
    "pdf = pd.DataFrame({\n",
    "    \"numbers\": np.random.randint(-1000, 1000, 1_000_000, dtype='int64'),\n",
    "    \"business\": np.random.choice([\"McD\", \"Buckees\", \"Walmart\", \"Costco\"], size=1_000_000)\n",
    "})\n",
    "gdf = cudf.from_pandas(pdf)"
   ]
  },
  {
   "cell_type": "code",
   "execution_count": 28,
   "metadata": {},
   "outputs": [],
   "source": [
    "pandas_merge = timeit.timeit(lambda : pdf.merge(pdf), number=10)"
   ]
  },
  {
   "cell_type": "code",
   "execution_count": 29,
   "metadata": {},
   "outputs": [],
   "source": [
    "cudf_merge = timeit.timeit(lambda : gdf.merge(gdf), number=10)"
   ]
  },
  {
   "cell_type": "code",
   "execution_count": 30,
   "metadata": {},
   "outputs": [],
   "source": [
    "import matplotlib.pyplot as plt"
   ]
  },
  {
   "cell_type": "code",
   "execution_count": 31,
   "metadata": {},
   "outputs": [],
   "source": [
    "perf_df = pd.DataFrame(\n",
    "    {\n",
    "        \"cudf speed up v/s pandas\": [pandas_to_parquet/cudf_to_parquet, pandas_read_parquet/cudf_read_parquet, pandas_to_csv/cudf_to_csv, pandas_read_csv/cudf_read_csv, pandas_groupby/cudf_groupby, pandas_merge/cudf_merge],\n",
    "}, index=[\"to_parquet\", \"read_parquet\", \"to_csv\", \"read_csv\", \"groupby\", \"merge\"])"
   ]
  },
  {
   "cell_type": "code",
   "execution_count": 32,
   "metadata": {},
   "outputs": [
    {
     "data": {
      "text/html": [
       "<div>\n",
       "<style scoped>\n",
       "    .dataframe tbody tr th:only-of-type {\n",
       "        vertical-align: middle;\n",
       "    }\n",
       "\n",
       "    .dataframe tbody tr th {\n",
       "        vertical-align: top;\n",
       "    }\n",
       "\n",
       "    .dataframe thead th {\n",
       "        text-align: right;\n",
       "    }\n",
       "</style>\n",
       "<table border=\"1\" class=\"dataframe\">\n",
       "  <thead>\n",
       "    <tr style=\"text-align: right;\">\n",
       "      <th></th>\n",
       "      <th>cudf speed up v/s pandas</th>\n",
       "    </tr>\n",
       "  </thead>\n",
       "  <tbody>\n",
       "    <tr>\n",
       "      <th>to_parquet</th>\n",
       "      <td>17.713185</td>\n",
       "    </tr>\n",
       "    <tr>\n",
       "      <th>read_parquet</th>\n",
       "      <td>48.988675</td>\n",
       "    </tr>\n",
       "    <tr>\n",
       "      <th>to_csv</th>\n",
       "      <td>113.220413</td>\n",
       "    </tr>\n",
       "    <tr>\n",
       "      <th>read_csv</th>\n",
       "      <td>21.481295</td>\n",
       "    </tr>\n",
       "    <tr>\n",
       "      <th>groupby</th>\n",
       "      <td>103.912005</td>\n",
       "    </tr>\n",
       "    <tr>\n",
       "      <th>merge</th>\n",
       "      <td>108.223942</td>\n",
       "    </tr>\n",
       "  </tbody>\n",
       "</table>\n",
       "</div>"
      ],
      "text/plain": [
       "              cudf speed up v/s pandas\n",
       "to_parquet                   17.713185\n",
       "read_parquet                 48.988675\n",
       "to_csv                      113.220413\n",
       "read_csv                     21.481295\n",
       "groupby                     103.912005\n",
       "merge                       108.223942"
      ]
     },
     "execution_count": 32,
     "metadata": {},
     "output_type": "execute_result"
    }
   ],
   "source": [
    "perf_df"
   ]
  },
  {
   "cell_type": "code",
   "execution_count": 33,
   "metadata": {},
   "outputs": [
    {
     "data": {
      "text/plain": [
       "[Text(0, 0, '17.7132'),\n",
       " Text(0, 0, '48.9887'),\n",
       " Text(0, 0, '113.22'),\n",
       " Text(0, 0, '21.4813'),\n",
       " Text(0, 0, '103.912'),\n",
       " Text(0, 0, '108.224')]"
      ]
     },
     "execution_count": 33,
     "metadata": {},
     "output_type": "execute_result"
    },
    {
     "data": {
      "image/png": "[encoded data removed]",
      "text/plain": [
       "<Figure size 640x480 with 1 Axes>"
      ]
     },
     "metadata": {},
     "output_type": "display_data"
    }
   ],
   "source": [
    "ax = perf_df.plot.bar(color='#7400ff', ylim=(1,200), rot=0)\n",
    "ax.set_xlabel(\"Operations\")\n",
    "ax.set_ylabel(\"Speedup factor\")\n",
    "ax.bar_label(ax.containers[0])"
   ]
  },
  {
   "cell_type": "code",
   "execution_count": 34,
   "metadata": {},
   "outputs": [],
   "source": [
    "pd_series = pd.Series(np.random.choice([\"123\", \"56.234\", \"Walmart\", \"Costco\", \"rapids ai\"], size=10_000_0000))"
   ]
  },
  {
   "cell_type": "code",
   "execution_count": 35,
   "metadata": {},
   "outputs": [],
   "source": [
    "gd_series = cudf.from_pandas(pd_series)"
   ]
  },
  {
   "cell_type": "code",
   "execution_count": 36,
   "metadata": {},
   "outputs": [],
   "source": [
    "pandas_upper = timeit.timeit(lambda : pd_series.str.upper(), number=10)"
   ]
  },
  {
   "cell_type": "code",
   "execution_count": 37,
   "metadata": {},
   "outputs": [],
   "source": [
    "cudf_upper = timeit.timeit(lambda : gd_series.str.upper(), number=10)"
   ]
  },
  {
   "cell_type": "code",
   "execution_count": 38,
   "metadata": {},
   "outputs": [],
   "source": [
    "pandas_contains = timeit.timeit(lambda : pd_series.str.contains(r\"[0-9][a-z]\"), number=10)"
   ]
  },
  {
   "cell_type": "code",
   "execution_count": 39,
   "metadata": {},
   "outputs": [],
   "source": [
    "cudf_contains = timeit.timeit(lambda : gd_series.str.contains(r\"[0-9][a-z]\"), number=10)"
   ]
  },
  {
   "cell_type": "code",
   "execution_count": 40,
   "metadata": {},
   "outputs": [],
   "source": [
    "pandas_isalpha = timeit.timeit(lambda : pd_series.str.isalpha(), number=10)"
   ]
  },
  {
   "cell_type": "code",
   "execution_count": 41,
   "metadata": {},
   "outputs": [],
   "source": [
    "cudf_isalpha = timeit.timeit(lambda : gd_series.str.isalpha(), number=10)"
   ]
  },
  {
   "cell_type": "code",
   "execution_count": 42,
   "metadata": {},
   "outputs": [],
   "source": [
    "perf_df = pd.DataFrame(\n",
    "    {\n",
    "        \"cudf speed up v/s pandas\": [pandas_upper/cudf_upper, pandas_contains/cudf_contains, pandas_isalpha/cudf_isalpha,],\n",
    "}, index=[\"upper\", \"contains\", \"is_alpha\",])"
   ]
  },
  {
   "cell_type": "code",
   "execution_count": 43,
   "metadata": {},
   "outputs": [
    {
     "data": {
      "text/plain": [
       "[Text(0, 0, '1533.03'), Text(0, 0, '705.921'), Text(0, 0, '1311.85')]"
      ]
     },
     "execution_count": 43,
     "metadata": {},
     "output_type": "execute_result"
    },
    {
     "data": {
      "image/png": "[encoded data removed]",
      "text/plain": [
       "<Figure size 640x480 with 1 Axes>"
      ]
     },
     "metadata": {},
     "output_type": "display_data"
    }
   ],
   "source": [
    "ax = perf_df.plot.bar(color='#7400ff', ylim=(1,3000), rot=0)\n",
    "ax.set_xlabel(\"String APIs\")\n",
    "ax.set_ylabel(\"Speedup\")\n",
    "ax.bar_label(ax.containers[0])"
   ]
  },
  {
   "cell_type": "markdown",
   "metadata": {},
   "source": [
    "## UDF"
   ]
  },
  {
   "cell_type": "code",
   "execution_count": 3,
   "metadata": {},
   "outputs": [],
   "source": [
    "size = 10000000\n",
    "pdf = pd.DataFrame({\n",
    "    'age': np.random.randint(0,100,size),\n",
    "})"
   ]
  },
  {
   "cell_type": "code",
   "execution_count": 4,
   "metadata": {},
   "outputs": [],
   "source": [
    "def f(row):\n",
    "    if row['age'] < 18:\n",
    "        return 0\n",
    "    elif 18 <= row['age'] < 20:\n",
    "        return 1\n",
    "    elif 20 <= row['age'] < 30:\n",
    "        return 2\n",
    "    elif 30 <= row['age'] < 40:\n",
    "        return 3\n",
    "    elif 40 <= row['age'] < 50:\n",
    "        return 4\n",
    "    elif 50 <= row['age'] < 60:\n",
    "        return 5\n",
    "    elif 60 <= row['age'] < 70:\n",
    "        return 6\n",
    "    else:\n",
    "        return 7"
   ]
  },
  {
   "cell_type": "code",
   "execution_count": 5,
   "metadata": {},
   "outputs": [],
   "source": [
    "gdf = cudf.from_pandas(pdf)"
   ]
  },
  {
   "cell_type": "code",
   "execution_count": 6,
   "metadata": {},
   "outputs": [],
   "source": [
    "pandas_int_udf = timeit.timeit(lambda : pdf.apply(f, axis=1), number=10)"
   ]
  },
  {
   "cell_type": "code",
   "execution_count": 7,
   "metadata": {},
   "outputs": [],
   "source": [
    "cudf_int_udf = timeit.timeit(lambda : gdf.apply(f, axis=1), number=10)"
   ]
  },
  {
   "cell_type": "code",
   "execution_count": 13,
   "metadata": {},
   "outputs": [],
   "source": [
    "def str_func(row):\n",
    "    if row['strings'].isupper():\n",
    "        return 0\n",
    "    else:\n",
    "        return 1"
   ]
  },
  {
   "cell_type": "code",
   "execution_count": 10,
   "metadata": {},
   "outputs": [],
   "source": [
    "pd_series = pd.Series(np.random.choice([\"ABC\", \"abc\", \"hello world\", \"AI\"], size=10_000_000), name='strings').to_frame()"
   ]
  },
  {
   "cell_type": "code",
   "execution_count": 11,
   "metadata": {},
   "outputs": [],
   "source": [
    "gd_series = cudf.from_pandas(pd_series)"
   ]
  },
  {
   "cell_type": "code",
   "execution_count": 14,
   "metadata": {},
   "outputs": [],
   "source": [
    "pandas_str_udf = timeit.timeit(lambda : pd_series.apply(str_func, axis=1), number=10)"
   ]
  },
  {
   "cell_type": "code",
   "execution_count": 15,
   "metadata": {},
   "outputs": [],
   "source": [
    "cudf_str_udf = timeit.timeit(lambda : gd_series.apply(str_func, axis=1), number=10)"
   ]
  },
  {
   "cell_type": "code",
   "execution_count": null,
   "metadata": {},
   "outputs": [],
   "source": [
    "size = 100000000\n",
    "pdf = pd.DataFrame()\n",
    "pdf['key'] = np.random.randint(0,2,size)\n",
    "pdf['val'] = np.random.randint(0,7,size)\n",
    "\n",
    "\n",
    "def mult(df):\n",
    "  df['out'] = df['key'] * df['val'] - 10\n",
    "  return df\n",
    "\n",
    "\n",
    "gdf = cudf.from_pandas(pdf)"
   ]
  },
  {
   "cell_type": "code",
   "execution_count": 17,
   "metadata": {},
   "outputs": [
    {
     "name": "stderr",
     "output_type": "stream",
     "text": [
      "/tmp/ipykernel_47438/1960370463.py:1: FutureWarning: Not prepending group keys to the result index of transform-like apply. In the future, the group keys will be included in the index, regardless of whether the applied function returns a like-indexed object.\n",
      "To preserve the previous behavior, use\n",
      "\n",
      "\t>>> .groupby(..., group_keys=False)\n",
      "\n",
      "To adopt the future behavior and silence this warning, use \n",
      "\n",
      "\t>>> .groupby(..., group_keys=True)\n",
      "  pandas_udf_groupby = timeit.timeit(lambda : pdf.groupby(['key']).apply(mult), number=10)\n",
      "/tmp/ipykernel_47438/1960370463.py:1: FutureWarning: Not prepending group keys to the result index of transform-like apply. In the future, the group keys will be included in the index, regardless of whether the applied function returns a like-indexed object.\n",
      "To preserve the previous behavior, use\n",
      "\n",
      "\t>>> .groupby(..., group_keys=False)\n",
      "\n",
      "To adopt the future behavior and silence this warning, use \n",
      "\n",
      "\t>>> .groupby(..., group_keys=True)\n",
      "  pandas_udf_groupby = timeit.timeit(lambda : pdf.groupby(['key']).apply(mult), number=10)\n",
      "/tmp/ipykernel_47438/1960370463.py:1: FutureWarning: Not prepending group keys to the result index of transform-like apply. In the future, the group keys will be included in the index, regardless of whether the applied function returns a like-indexed object.\n",
      "To preserve the previous behavior, use\n",
      "\n",
      "\t>>> .groupby(..., group_keys=False)\n",
      "\n",
      "To adopt the future behavior and silence this warning, use \n",
      "\n",
      "\t>>> .groupby(..., group_keys=True)\n",
      "  pandas_udf_groupby = timeit.timeit(lambda : pdf.groupby(['key']).apply(mult), number=10)\n",
      "/tmp/ipykernel_47438/1960370463.py:1: FutureWarning: Not prepending group keys to the result index of transform-like apply. In the future, the group keys will be included in the index, regardless of whether the applied function returns a like-indexed object.\n",
      "To preserve the previous behavior, use\n",
      "\n",
      "\t>>> .groupby(..., group_keys=False)\n",
      "\n",
      "To adopt the future behavior and silence this warning, use \n",
      "\n",
      "\t>>> .groupby(..., group_keys=True)\n",
      "  pandas_udf_groupby = timeit.timeit(lambda : pdf.groupby(['key']).apply(mult), number=10)\n",
      "/tmp/ipykernel_47438/1960370463.py:1: FutureWarning: Not prepending group keys to the result index of transform-like apply. In the future, the group keys will be included in the index, regardless of whether the applied function returns a like-indexed object.\n",
      "To preserve the previous behavior, use\n",
      "\n",
      "\t>>> .groupby(..., group_keys=False)\n",
      "\n",
      "To adopt the future behavior and silence this warning, use \n",
      "\n",
      "\t>>> .groupby(..., group_keys=True)\n",
      "  pandas_udf_groupby = timeit.timeit(lambda : pdf.groupby(['key']).apply(mult), number=10)\n",
      "/tmp/ipykernel_47438/1960370463.py:1: FutureWarning: Not prepending group keys to the result index of transform-like apply. In the future, the group keys will be included in the index, regardless of whether the applied function returns a like-indexed object.\n",
      "To preserve the previous behavior, use\n",
      "\n",
      "\t>>> .groupby(..., group_keys=False)\n",
      "\n",
      "To adopt the future behavior and silence this warning, use \n",
      "\n",
      "\t>>> .groupby(..., group_keys=True)\n",
      "  pandas_udf_groupby = timeit.timeit(lambda : pdf.groupby(['key']).apply(mult), number=10)\n",
      "/tmp/ipykernel_47438/1960370463.py:1: FutureWarning: Not prepending group keys to the result index of transform-like apply. In the future, the group keys will be included in the index, regardless of whether the applied function returns a like-indexed object.\n",
      "To preserve the previous behavior, use\n",
      "\n",
      "\t>>> .groupby(..., group_keys=False)\n",
      "\n",
      "To adopt the future behavior and silence this warning, use \n",
      "\n",
      "\t>>> .groupby(..., group_keys=True)\n",
      "  pandas_udf_groupby = timeit.timeit(lambda : pdf.groupby(['key']).apply(mult), number=10)\n",
      "/tmp/ipykernel_47438/1960370463.py:1: FutureWarning: Not prepending group keys to the result index of transform-like apply. In the future, the group keys will be included in the index, regardless of whether the applied function returns a like-indexed object.\n",
      "To preserve the previous behavior, use\n",
      "\n",
      "\t>>> .groupby(..., group_keys=False)\n",
      "\n",
      "To adopt the future behavior and silence this warning, use \n",
      "\n",
      "\t>>> .groupby(..., group_keys=True)\n",
      "  pandas_udf_groupby = timeit.timeit(lambda : pdf.groupby(['key']).apply(mult), number=10)\n",
      "/tmp/ipykernel_47438/1960370463.py:1: FutureWarning: Not prepending group keys to the result index of transform-like apply. In the future, the group keys will be included in the index, regardless of whether the applied function returns a like-indexed object.\n",
      "To preserve the previous behavior, use\n",
      "\n",
      "\t>>> .groupby(..., group_keys=False)\n",
      "\n",
      "To adopt the future behavior and silence this warning, use \n",
      "\n",
      "\t>>> .groupby(..., group_keys=True)\n",
      "  pandas_udf_groupby = timeit.timeit(lambda : pdf.groupby(['key']).apply(mult), number=10)\n",
      "/tmp/ipykernel_47438/1960370463.py:1: FutureWarning: Not prepending group keys to the result index of transform-like apply. In the future, the group keys will be included in the index, regardless of whether the applied function returns a like-indexed object.\n",
      "To preserve the previous behavior, use\n",
      "\n",
      "\t>>> .groupby(..., group_keys=False)\n",
      "\n",
      "To adopt the future behavior and silence this warning, use \n",
      "\n",
      "\t>>> .groupby(..., group_keys=True)\n",
      "  pandas_udf_groupby = timeit.timeit(lambda : pdf.groupby(['key']).apply(mult), number=10)\n"
     ]
    }
   ],
   "source": [
    "pandas_udf_groupby = timeit.timeit(lambda : pdf.groupby(['key']).apply(mult), number=10)"
   ]
  },
  {
   "cell_type": "code",
   "execution_count": 18,
   "metadata": {},
   "outputs": [],
   "source": [
    "cudf_udf_groupby = timeit.timeit(lambda : gdf.groupby(['key']).apply(mult), number=10)"
   ]
  },
  {
   "cell_type": "code",
   "execution_count": 19,
   "metadata": {},
   "outputs": [],
   "source": [
    "perf_df = pd.DataFrame(\n",
    "    {\n",
    "    \"cudf speed up v/s pandas\": [pandas_int_udf/cudf_int_udf, \n",
    "                                 pandas_str_udf/cudf_str_udf,\n",
    "                                 pandas_udf_groupby/cudf_udf_groupby],\n",
    "}, index=[\"int_udf\", \n",
    "          \"str_udf\",\n",
    "          \"groupby_udf\"])"
   ]
  },
  {
   "cell_type": "code",
   "execution_count": 22,
   "metadata": {},
   "outputs": [
    {
     "data": {
      "text/plain": [
       "[Text(0, 0, '700.995'), Text(0, 0, '26.9024'), Text(0, 0, '307.897')]"
      ]
     },
     "execution_count": 22,
     "metadata": {},
     "output_type": "execute_result"
    },
    {
     "data": {
      "image/png": "[encoded data removed]",
      "text/plain": [
       "<Figure size 640x480 with 1 Axes>"
      ]
     },
     "metadata": {},
     "output_type": "display_data"
    }
   ],
   "source": [
    "ax = perf_df.plot.bar(color='#7400ff', ylim=(1,1000), rot=0)\n",
    "ax.set_xlabel(\"UDFs\")\n",
    "ax.set_ylabel(\"Speedup\")\n",
    "ax.bar_label(ax.containers[0])"
   ]
  }
 ],
 "metadata": {
  "kernelspec": {
   "display_name": "Python 3 (ipykernel)",
   "language": "python",
   "name": "python3"
  },
  "language_info": {
   "codemirror_mode": {
    "name": "ipython",
    "version": 3
   },
   "file_extension": ".py",
   "mimetype": "text/x-python",
   "name": "python",
   "nbconvert_exporter": "python",
   "pygments_lexer": "ipython3",
   "version": "3.8.15"
  },
  "vscode": {
   "interpreter": {
    "hash": "b4f3463dcc83b00b9c65791e378b11fabec52613a2a7831cd4af76c548ff6047"
   }
  }
 },
 "nbformat": 4,
 "nbformat_minor": 4
}
