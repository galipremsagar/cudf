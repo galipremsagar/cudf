{
 "cells": [
  {
   "cell_type": "code",
   "execution_count": 1,
   "metadata": {},
   "outputs": [
    {
     "name": "stderr",
     "output_type": "stream",
     "text": [
      "/nvme/0/pgali/envs/cudfdev/lib/python3.10/site-packages/tqdm/auto.py:22: TqdmWarning: IProgress not found. Please update jupyter and ipywidgets. See https://ipywidgets.readthedocs.io/en/stable/user_install.html\n",
      "  from .autonotebook import tqdm as notebook_tqdm\n"
     ]
    }
   ],
   "source": [
    "import cudf\n",
    "import pandas as pd\n",
    "import numpy as np\n",
    "import time"
   ]
  },
  {
   "cell_type": "code",
   "execution_count": 2,
   "metadata": {},
   "outputs": [],
   "source": [
    "np.random.seed(0)"
   ]
  },
  {
   "cell_type": "code",
   "execution_count": 3,
   "metadata": {},
   "outputs": [],
   "source": [
    "pdf = pd.DataFrame({\n",
    "    \"numbers\": np.random.randint(-1000, 1000, 10_000_000, dtype='int64'),\n",
    "    \"business\": np.random.choice([\"McD\", \"Buckees\", \"Walmart\", \"Costco\"], size=10_000_000)\n",
    "})"
   ]
  },
  {
   "cell_type": "code",
   "execution_count": 4,
   "metadata": {},
   "outputs": [
    {
     "data": {
      "text/html": [
       "<div>\n",
       "<style scoped>\n",
       "    .dataframe tbody tr th:only-of-type {\n",
       "        vertical-align: middle;\n",
       "    }\n",
       "\n",
       "    .dataframe tbody tr th {\n",
       "        vertical-align: top;\n",
       "    }\n",
       "\n",
       "    .dataframe thead th {\n",
       "        text-align: right;\n",
       "    }\n",
       "</style>\n",
       "<table border=\"1\" class=\"dataframe\">\n",
       "  <thead>\n",
       "    <tr style=\"text-align: right;\">\n",
       "      <th></th>\n",
       "      <th>numbers</th>\n",
       "      <th>business</th>\n",
       "    </tr>\n",
       "  </thead>\n",
       "  <tbody>\n",
       "    <tr>\n",
       "      <th>0</th>\n",
       "      <td>-316</td>\n",
       "      <td>Buckees</td>\n",
       "    </tr>\n",
       "    <tr>\n",
       "      <th>1</th>\n",
       "      <td>-441</td>\n",
       "      <td>Costco</td>\n",
       "    </tr>\n",
       "    <tr>\n",
       "      <th>2</th>\n",
       "      <td>653</td>\n",
       "      <td>McD</td>\n",
       "    </tr>\n",
       "    <tr>\n",
       "      <th>3</th>\n",
       "      <td>216</td>\n",
       "      <td>Buckees</td>\n",
       "    </tr>\n",
       "    <tr>\n",
       "      <th>4</th>\n",
       "      <td>-165</td>\n",
       "      <td>Walmart</td>\n",
       "    </tr>\n",
       "    <tr>\n",
       "      <th>...</th>\n",
       "      <td>...</td>\n",
       "      <td>...</td>\n",
       "    </tr>\n",
       "    <tr>\n",
       "      <th>9999995</th>\n",
       "      <td>908</td>\n",
       "      <td>Costco</td>\n",
       "    </tr>\n",
       "    <tr>\n",
       "      <th>9999996</th>\n",
       "      <td>338</td>\n",
       "      <td>McD</td>\n",
       "    </tr>\n",
       "    <tr>\n",
       "      <th>9999997</th>\n",
       "      <td>885</td>\n",
       "      <td>Buckees</td>\n",
       "    </tr>\n",
       "    <tr>\n",
       "      <th>9999998</th>\n",
       "      <td>-391</td>\n",
       "      <td>McD</td>\n",
       "    </tr>\n",
       "    <tr>\n",
       "      <th>9999999</th>\n",
       "      <td>857</td>\n",
       "      <td>Walmart</td>\n",
       "    </tr>\n",
       "  </tbody>\n",
       "</table>\n",
       "<p>10000000 rows × 2 columns</p>\n",
       "</div>"
      ],
      "text/plain": [
       "         numbers business\n",
       "0           -316  Buckees\n",
       "1           -441   Costco\n",
       "2            653      McD\n",
       "3            216  Buckees\n",
       "4           -165  Walmart\n",
       "...          ...      ...\n",
       "9999995      908   Costco\n",
       "9999996      338      McD\n",
       "9999997      885  Buckees\n",
       "9999998     -391      McD\n",
       "9999999      857  Walmart\n",
       "\n",
       "[10000000 rows x 2 columns]"
      ]
     },
     "execution_count": 4,
     "metadata": {},
     "output_type": "execute_result"
    }
   ],
   "source": [
    "pdf"
   ]
  },
  {
   "cell_type": "code",
   "execution_count": 5,
   "metadata": {},
   "outputs": [],
   "source": [
    "gdf = cudf.from_pandas(pdf)"
   ]
  },
  {
   "cell_type": "code",
   "execution_count": 6,
   "metadata": {},
   "outputs": [
    {
     "data": {
      "text/html": [
       "<div>\n",
       "<style scoped>\n",
       "    .dataframe tbody tr th:only-of-type {\n",
       "        vertical-align: middle;\n",
       "    }\n",
       "\n",
       "    .dataframe tbody tr th {\n",
       "        vertical-align: top;\n",
       "    }\n",
       "\n",
       "    .dataframe thead th {\n",
       "        text-align: right;\n",
       "    }\n",
       "</style>\n",
       "<table border=\"1\" class=\"dataframe\">\n",
       "  <thead>\n",
       "    <tr style=\"text-align: right;\">\n",
       "      <th></th>\n",
       "      <th>numbers</th>\n",
       "      <th>business</th>\n",
       "    </tr>\n",
       "  </thead>\n",
       "  <tbody>\n",
       "    <tr>\n",
       "      <th>0</th>\n",
       "      <td>-316</td>\n",
       "      <td>Buckees</td>\n",
       "    </tr>\n",
       "    <tr>\n",
       "      <th>1</th>\n",
       "      <td>-441</td>\n",
       "      <td>Costco</td>\n",
       "    </tr>\n",
       "    <tr>\n",
       "      <th>2</th>\n",
       "      <td>653</td>\n",
       "      <td>McD</td>\n",
       "    </tr>\n",
       "    <tr>\n",
       "      <th>3</th>\n",
       "      <td>216</td>\n",
       "      <td>Buckees</td>\n",
       "    </tr>\n",
       "    <tr>\n",
       "      <th>4</th>\n",
       "      <td>-165</td>\n",
       "      <td>Walmart</td>\n",
       "    </tr>\n",
       "    <tr>\n",
       "      <th>...</th>\n",
       "      <td>...</td>\n",
       "      <td>...</td>\n",
       "    </tr>\n",
       "    <tr>\n",
       "      <th>9999995</th>\n",
       "      <td>908</td>\n",
       "      <td>Costco</td>\n",
       "    </tr>\n",
       "    <tr>\n",
       "      <th>9999996</th>\n",
       "      <td>338</td>\n",
       "      <td>McD</td>\n",
       "    </tr>\n",
       "    <tr>\n",
       "      <th>9999997</th>\n",
       "      <td>885</td>\n",
       "      <td>Buckees</td>\n",
       "    </tr>\n",
       "    <tr>\n",
       "      <th>9999998</th>\n",
       "      <td>-391</td>\n",
       "      <td>McD</td>\n",
       "    </tr>\n",
       "    <tr>\n",
       "      <th>9999999</th>\n",
       "      <td>857</td>\n",
       "      <td>Walmart</td>\n",
       "    </tr>\n",
       "  </tbody>\n",
       "</table>\n",
       "<p>10000000 rows × 2 columns</p>\n",
       "</div>"
      ],
      "text/plain": [
       "         numbers business\n",
       "0           -316  Buckees\n",
       "1           -441   Costco\n",
       "2            653      McD\n",
       "3            216  Buckees\n",
       "4           -165  Walmart\n",
       "...          ...      ...\n",
       "9999995      908   Costco\n",
       "9999996      338      McD\n",
       "9999997      885  Buckees\n",
       "9999998     -391      McD\n",
       "9999999      857  Walmart\n",
       "\n",
       "[10000000 rows x 2 columns]"
      ]
     },
     "execution_count": 6,
     "metadata": {},
     "output_type": "execute_result"
    }
   ],
   "source": [
    "gdf"
   ]
  },
  {
   "cell_type": "code",
   "execution_count": 7,
   "metadata": {},
   "outputs": [],
   "source": [
    "def time_it(callable):\n",
    "    start = time.time()\n",
    "    callable()\n",
    "    end = time.time()\n",
    "    return end - start"
   ]
  },
  {
   "cell_type": "code",
   "execution_count": 8,
   "metadata": {},
   "outputs": [],
   "source": [
    "start = time.time()\n",
    "pdf.to_parquet(\"pandas.parquet\")\n",
    "end = time.time()"
   ]
  },
  {
   "cell_type": "code",
   "execution_count": 9,
   "metadata": {},
   "outputs": [],
   "source": [
    "pandas_to_parquet = time_it(lambda : pdf.to_parquet(\"pandas.parquet\"))"
   ]
  },
  {
   "cell_type": "code",
   "execution_count": 10,
   "metadata": {},
   "outputs": [],
   "source": [
    "cudf_to_parquet = time_it(lambda : gdf.to_parquet(\"cudf.parquet\"))"
   ]
  },
  {
   "cell_type": "code",
   "execution_count": 11,
   "metadata": {},
   "outputs": [],
   "source": [
    "pandas_read_parquet = time_it(lambda : pd.read_parquet(\"pandas.parquet\"))"
   ]
  },
  {
   "cell_type": "code",
   "execution_count": 12,
   "metadata": {},
   "outputs": [],
   "source": [
    "cudf_read_parquet = time_it(lambda : cudf.read_parquet(\"cudf.parquet\"))"
   ]
  },
  {
   "cell_type": "code",
   "execution_count": 13,
   "metadata": {},
   "outputs": [],
   "source": [
    "pandas_to_csv = time_it(lambda : pdf.to_csv(\"pandas.csv\"))"
   ]
  },
  {
   "cell_type": "code",
   "execution_count": 14,
   "metadata": {},
   "outputs": [],
   "source": [
    "cudf_to_csv = time_it(lambda : gdf.to_csv(\"cudf.csv\"))"
   ]
  },
  {
   "cell_type": "code",
   "execution_count": 15,
   "metadata": {},
   "outputs": [],
   "source": [
    "pandas_read_csv = time_it(lambda : pd.read_csv(\"pandas.csv\"))"
   ]
  },
  {
   "cell_type": "code",
   "execution_count": 16,
   "metadata": {},
   "outputs": [],
   "source": [
    "cudf_read_csv = time_it(lambda : cudf.read_csv(\"cudf.csv\"))"
   ]
  },
  {
   "cell_type": "code",
   "execution_count": 17,
   "metadata": {},
   "outputs": [],
   "source": [
    "pandas_groupby = time_it(lambda : pdf.groupby(\"business\").agg([\"min\", \"max\", \"mean\"]))"
   ]
  },
  {
   "cell_type": "code",
   "execution_count": 18,
   "metadata": {},
   "outputs": [],
   "source": [
    "cudf_groupby = time_it(lambda : gdf.groupby(\"business\").agg([\"min\", \"max\", \"mean\"]))"
   ]
  },
  {
   "cell_type": "code",
   "execution_count": 22,
   "metadata": {},
   "outputs": [],
   "source": [
    "# TODO : Remove this memory limitation(from pandas side) slicing \n",
    "pdf = pd.DataFrame({\n",
    "    \"numbers\": np.random.randint(-1000, 1000, 1_000_00, dtype='int64'),\n",
    "    \"business\": np.random.choice([\"McD\", \"Buckees\", \"Walmart\", \"Costco\"], size=1_000_00)\n",
    "})\n",
    "gdf = cudf.from_pandas(pdf)"
   ]
  },
  {
   "cell_type": "code",
   "execution_count": 23,
   "metadata": {},
   "outputs": [],
   "source": [
    "pandas_merge = time_it(lambda : pdf.merge(pdf))"
   ]
  },
  {
   "cell_type": "code",
   "execution_count": 24,
   "metadata": {},
   "outputs": [],
   "source": [
    "cudf_merge = time_it(lambda : gdf.merge(gdf))"
   ]
  },
  {
   "cell_type": "code",
   "execution_count": 25,
   "metadata": {},
   "outputs": [],
   "source": [
    "import matplotlib.pyplot as plt"
   ]
  },
  {
   "cell_type": "code",
   "execution_count": 26,
   "metadata": {},
   "outputs": [],
   "source": [
    "perf_df = pd.DataFrame(\n",
    "    {\n",
    "        \"cudf speed up v/s pandas\": [pandas_to_parquet/cudf_to_parquet, pandas_read_parquet/cudf_read_parquet, pandas_to_csv/cudf_to_csv, pandas_read_csv/cudf_read_csv, pandas_groupby/cudf_groupby, pandas_merge/cudf_merge],\n",
    "}, index=[\"to_parquet\", \"read_parquet\", \"to_csv\", \"read_csv\", \"groupby\", \"merge\"])"
   ]
  },
  {
   "cell_type": "code",
   "execution_count": 27,
   "metadata": {},
   "outputs": [
    {
     "data": {
      "text/html": [
       "<div>\n",
       "<style scoped>\n",
       "    .dataframe tbody tr th:only-of-type {\n",
       "        vertical-align: middle;\n",
       "    }\n",
       "\n",
       "    .dataframe tbody tr th {\n",
       "        vertical-align: top;\n",
       "    }\n",
       "\n",
       "    .dataframe thead th {\n",
       "        text-align: right;\n",
       "    }\n",
       "</style>\n",
       "<table border=\"1\" class=\"dataframe\">\n",
       "  <thead>\n",
       "    <tr style=\"text-align: right;\">\n",
       "      <th></th>\n",
       "      <th>cudf speed up v/s pandas</th>\n",
       "    </tr>\n",
       "  </thead>\n",
       "  <tbody>\n",
       "    <tr>\n",
       "      <th>to_parquet</th>\n",
       "      <td>10.477332</td>\n",
       "    </tr>\n",
       "    <tr>\n",
       "      <th>read_parquet</th>\n",
       "      <td>18.189531</td>\n",
       "    </tr>\n",
       "    <tr>\n",
       "      <th>to_csv</th>\n",
       "      <td>24.120781</td>\n",
       "    </tr>\n",
       "    <tr>\n",
       "      <th>read_csv</th>\n",
       "      <td>13.679503</td>\n",
       "    </tr>\n",
       "    <tr>\n",
       "      <th>groupby</th>\n",
       "      <td>40.277891</td>\n",
       "    </tr>\n",
       "    <tr>\n",
       "      <th>merge</th>\n",
       "      <td>22.753797</td>\n",
       "    </tr>\n",
       "  </tbody>\n",
       "</table>\n",
       "</div>"
      ],
      "text/plain": [
       "              cudf speed up v/s pandas\n",
       "to_parquet                   10.477332\n",
       "read_parquet                 18.189531\n",
       "to_csv                       24.120781\n",
       "read_csv                     13.679503\n",
       "groupby                      40.277891\n",
       "merge                        22.753797"
      ]
     },
     "execution_count": 27,
     "metadata": {},
     "output_type": "execute_result"
    }
   ],
   "source": [
    "perf_df"
   ]
  },
  {
   "cell_type": "code",
   "execution_count": 28,
   "metadata": {},
   "outputs": [
    {
     "data": {
      "text/plain": [
       "[Text(0, 0, '10.4773'),\n",
       " Text(0, 0, '18.1895'),\n",
       " Text(0, 0, '24.1208'),\n",
       " Text(0, 0, '13.6795'),\n",
       " Text(0, 0, '40.2779'),\n",
       " Text(0, 0, '22.7538')]"
      ]
     },
     "execution_count": 28,
     "metadata": {},
     "output_type": "execute_result"
    },
    {
     "data": {
      "image/png": "[encoded data removed]",
      "text/plain": [
       "<Figure size 640x480 with 1 Axes>"
      ]
     },
     "metadata": {},
     "output_type": "display_data"
    }
   ],
   "source": [
    "ax = perf_df.plot.bar(color='#7400ff', ylim=(1,50), rot=0)\n",
    "ax.set_xlabel(\"Operations\")\n",
    "ax.set_ylabel(\"Speedup factor\")\n",
    "ax.bar_label(ax.containers[0])"
   ]
  },
  {
   "cell_type": "code",
   "execution_count": 29,
   "metadata": {},
   "outputs": [],
   "source": [
    "pd_series = pd.Series(np.random.choice([\"123\", \"56.234\", \"Walmart\", \"Costco\", \"rapids ai\"], size=10_000_0000))"
   ]
  },
  {
   "cell_type": "code",
   "execution_count": 30,
   "metadata": {},
   "outputs": [],
   "source": [
    "gd_series = cudf.from_pandas(pd_series)"
   ]
  },
  {
   "cell_type": "code",
   "execution_count": 31,
   "metadata": {},
   "outputs": [],
   "source": [
    "pandas_upper = time_it(lambda : pd_series.str.upper())"
   ]
  },
  {
   "cell_type": "code",
   "execution_count": 32,
   "metadata": {},
   "outputs": [],
   "source": [
    "cudf_upper = time_it(lambda : gd_series.str.upper())"
   ]
  },
  {
   "cell_type": "code",
   "execution_count": 33,
   "metadata": {},
   "outputs": [],
   "source": [
    "pandas_contains = time_it(lambda : pd_series.str.contains(r\"[0-9][a-z]\"))"
   ]
  },
  {
   "cell_type": "code",
   "execution_count": 34,
   "metadata": {},
   "outputs": [],
   "source": [
    "cudf_contains = time_it(lambda : gd_series.str.contains(r\"[0-9][a-z]\"))"
   ]
  },
  {
   "cell_type": "code",
   "execution_count": 35,
   "metadata": {},
   "outputs": [],
   "source": [
    "pandas_isalpha = time_it(lambda : pd_series.str.isalpha())"
   ]
  },
  {
   "cell_type": "code",
   "execution_count": 36,
   "metadata": {},
   "outputs": [],
   "source": [
    "cudf_isalpha = time_it(lambda : gd_series.str.isalpha())"
   ]
  },
  {
   "cell_type": "code",
   "execution_count": 37,
   "metadata": {},
   "outputs": [],
   "source": [
    "perf_df = pd.DataFrame(\n",
    "    {\n",
    "        \"cudf speed up v/s pandas\": [pandas_upper/cudf_upper, pandas_contains/cudf_contains, pandas_isalpha/cudf_isalpha,],\n",
    "}, index=[\"upper\", \"contains\", \"is_alpha\",])"
   ]
  },
  {
   "cell_type": "code",
   "execution_count": 40,
   "metadata": {},
   "outputs": [
    {
     "data": {
      "text/plain": [
       "[Text(0, 0, '161.008'), Text(0, 0, '96.5185'), Text(0, 0, '432.102')]"
      ]
     },
     "execution_count": 40,
     "metadata": {},
     "output_type": "execute_result"
    },
    {
     "data": {
      "image/png": "[encoded data removed]",
      "text/plain": [
       "<Figure size 640x480 with 1 Axes>"
      ]
     },
     "metadata": {},
     "output_type": "display_data"
    }
   ],
   "source": [
    "ax = perf_df.plot.bar(color='#7400ff', ylim=(1,500), rot=0)\n",
    "ax.set_xlabel(\"String APIs\")\n",
    "ax.set_ylabel(\"Speedup\")\n",
    "ax.bar_label(ax.containers[0])"
   ]
  },
  {
   "attachments": {},
   "cell_type": "markdown",
   "metadata": {},
   "source": [
    "## UDF"
   ]
  },
  {
   "cell_type": "code",
   "execution_count": 41,
   "metadata": {},
   "outputs": [],
   "source": [
    "\n",
    "size = 10000000\n",
    "pdf = pd.DataFrame({\n",
    "    'age': np.random.randint(0,100,size),\n",
    "})"
   ]
  },
  {
   "cell_type": "code",
   "execution_count": 42,
   "metadata": {},
   "outputs": [],
   "source": [
    "def f(row):\n",
    "    if row['age'] < 18:\n",
    "        return 0\n",
    "    elif 18 <= row['age'] < 20:\n",
    "        return 1\n",
    "    elif 20 <= row['age'] < 30:\n",
    "        return 2\n",
    "    elif 30 <= row['age'] < 40:\n",
    "        return 3\n",
    "    elif 40 <= row['age'] < 50:\n",
    "        return 4\n",
    "    elif 50 <= row['age'] < 60:\n",
    "        return 5\n",
    "    elif 60 <= row['age'] < 70:\n",
    "        return 6\n",
    "    else:\n",
    "        return 7"
   ]
  },
  {
   "cell_type": "code",
   "execution_count": 58,
   "metadata": {},
   "outputs": [],
   "source": [
    "gdf = cudf.from_pandas(pdf)"
   ]
  },
  {
   "cell_type": "code",
   "execution_count": 44,
   "metadata": {},
   "outputs": [],
   "source": [
    "pandas_int_udf = time_it(lambda : pdf.apply(f, axis=1))"
   ]
  },
  {
   "cell_type": "code",
   "execution_count": 45,
   "metadata": {},
   "outputs": [],
   "source": [
    "cudf_int_udf = time_it(lambda : gdf.apply(f, axis=1))"
   ]
  },
  {
   "cell_type": "code",
   "execution_count": 46,
   "metadata": {},
   "outputs": [],
   "source": [
    "def str_func(row):\n",
    "    if row['strings'].isupper():\n",
    "        return 0\n",
    "    else:\n",
    "        return 1"
   ]
  },
  {
   "cell_type": "code",
   "execution_count": 48,
   "metadata": {},
   "outputs": [],
   "source": [
    "pd_series = pd.Series(np.random.choice([\"ABC\", \"abc\", \"hello world\", \"AI\"], size=10_000_000), name='strings').to_frame()"
   ]
  },
  {
   "cell_type": "code",
   "execution_count": 49,
   "metadata": {},
   "outputs": [],
   "source": [
    "gd_series = cudf.from_pandas(pd_series)"
   ]
  },
  {
   "cell_type": "code",
   "execution_count": 50,
   "metadata": {},
   "outputs": [],
   "source": [
    "pandas_str_udf = time_it(lambda : pd_series.apply(str_func, axis=1))"
   ]
  },
  {
   "cell_type": "code",
   "execution_count": 59,
   "metadata": {},
   "outputs": [],
   "source": [
    "cudf_str_udf = time_it(lambda : gd_series.apply(str_func, axis=1))"
   ]
  },
  {
   "cell_type": "code",
   "execution_count": 52,
   "metadata": {},
   "outputs": [],
   "source": [
    "size = 100000000\n",
    "pdf = pd.DataFrame()\n",
    "pdf['key'] = np.random.randint(0,2,size)\n",
    "pdf['val'] = np.random.randint(0,7,size)\n",
    "\n",
    "\n",
    "def mult(df):\n",
    "  df['out'] = df['key'] * df['val'] - 10\n",
    "  return df\n",
    "\n",
    "\n",
    "gdf = cudf.from_pandas(pdf)"
   ]
  },
  {
   "cell_type": "code",
   "execution_count": 53,
   "metadata": {},
   "outputs": [
    {
     "name": "stderr",
     "output_type": "stream",
     "text": [
      "/tmp/ipykernel_43492/3640856620.py:1: FutureWarning: Not prepending group keys to the result index of transform-like apply. In the future, the group keys will be included in the index, regardless of whether the applied function returns a like-indexed object.\n",
      "To preserve the previous behavior, use\n",
      "\n",
      "\t>>> .groupby(..., group_keys=False)\n",
      "\n",
      "To adopt the future behavior and silence this warning, use \n",
      "\n",
      "\t>>> .groupby(..., group_keys=True)\n",
      "  pandas_udf_groupby = time_it(lambda : pdf.groupby(['key']).apply(mult))\n"
     ]
    }
   ],
   "source": [
    "pandas_udf_groupby = time_it(lambda : pdf.groupby(['key']).apply(mult))"
   ]
  },
  {
   "cell_type": "code",
   "execution_count": 54,
   "metadata": {},
   "outputs": [],
   "source": [
    "cudf_udf_groupby = time_it(lambda : gdf.groupby(['key']).apply(mult))"
   ]
  },
  {
   "cell_type": "code",
   "execution_count": 55,
   "metadata": {},
   "outputs": [],
   "source": [
    "perf_df = pd.DataFrame(\n",
    "    {\n",
    "    \"cudf speed up v/s pandas\": [pandas_int_udf/cudf_int_udf, pandas_str_udf/cudf_str_udf, pandas_udf_groupby/cudf_udf_groupby],\n",
    "}, index=[\"int_udf\", \"str_udf\", \"groupby_udf\"])"
   ]
  },
  {
   "cell_type": "code",
   "execution_count": 57,
   "metadata": {},
   "outputs": [
    {
     "data": {
      "text/plain": [
       "[Text(0, 0, '58.2354'), Text(0, 0, '29.718'), Text(0, 0, '74.0731')]"
      ]
     },
     "execution_count": 57,
     "metadata": {},
     "output_type": "execute_result"
    },
    {
     "data": {
      "image/png": "[encoded data removed]",
      "text/plain": [
       "<Figure size 640x480 with 1 Axes>"
      ]
     },
     "metadata": {},
     "output_type": "display_data"
    }
   ],
   "source": [
    "ax = perf_df.plot.bar(color='#7400ff', ylim=(1,100), rot=0)\n",
    "ax.set_xlabel(\"UDFs\")\n",
    "ax.set_ylabel(\"Speedup\")\n",
    "ax.bar_label(ax.containers[0])"
   ]
  },
  {
   "attachments": {},
   "cell_type": "markdown",
   "metadata": {},
   "source": [
    "## Second run for UDF"
   ]
  },
  {
   "attachments": {},
   "cell_type": "markdown",
   "metadata": {},
   "source": [
    "TODO: Explain the code is jit compiled."
   ]
  },
  {
   "cell_type": "code",
   "execution_count": 61,
   "metadata": {},
   "outputs": [
    {
     "name": "stderr",
     "output_type": "stream",
     "text": [
      "/tmp/ipykernel_43492/3808839728.py:46: FutureWarning: Not prepending group keys to the result index of transform-like apply. In the future, the group keys will be included in the index, regardless of whether the applied function returns a like-indexed object.\n",
      "To preserve the previous behavior, use\n",
      "\n",
      "\t>>> .groupby(..., group_keys=False)\n",
      "\n",
      "To adopt the future behavior and silence this warning, use \n",
      "\n",
      "\t>>> .groupby(..., group_keys=True)\n",
      "  pandas_udf_groupby = time_it(lambda : pdf.groupby(['key']).apply(mult))\n"
     ]
    },
    {
     "data": {
      "text/plain": [
       "[Text(0, 0, '16710.2'), Text(0, 0, '3441.41'), Text(0, 0, '74.7759')]"
      ]
     },
     "execution_count": 61,
     "metadata": {},
     "output_type": "execute_result"
    },
    {
     "data": {
      "image/png": "[encoded data removed]",
      "text/plain": [
       "<Figure size 640x480 with 1 Axes>"
      ]
     },
     "metadata": {},
     "output_type": "display_data"
    }
   ],
   "source": [
    "\n",
    "size = 10000000\n",
    "pdf = pd.DataFrame({\n",
    "    'age': np.random.randint(0,100,size),\n",
    "})\n",
    "def f(row):\n",
    "    if row['age'] < 18:\n",
    "        return 0\n",
    "    elif 18 <= row['age'] < 20:\n",
    "        return 1\n",
    "    elif 20 <= row['age'] < 30:\n",
    "        return 2\n",
    "    elif 30 <= row['age'] < 40:\n",
    "        return 3\n",
    "    elif 40 <= row['age'] < 50:\n",
    "        return 4\n",
    "    elif 50 <= row['age'] < 60:\n",
    "        return 5\n",
    "    elif 60 <= row['age'] < 70:\n",
    "        return 6\n",
    "    else:\n",
    "        return 7\n",
    "gdf = cudf.from_pandas(pdf)\n",
    "pandas_int_udf = time_it(lambda : pdf.apply(f, axis=1))\n",
    "cudf_int_udf = time_it(lambda : gdf.apply(f, axis=1))\n",
    "def str_func(row):\n",
    "    if row['strings'].isupper():\n",
    "        return 0\n",
    "    else:\n",
    "        return 1\n",
    "pd_series = pd.Series(np.random.choice([\"ABC\", \"abc\", \"hello world\", \"AI\"], size=10_000_000), name='strings').to_frame()\n",
    "gd_series = cudf.from_pandas(pd_series)\n",
    "pandas_str_udf = time_it(lambda : pd_series.apply(str_func, axis=1))\n",
    "cudf_str_udf = time_it(lambda : gd_series.apply(str_func, axis=1))\n",
    "size = 100000000\n",
    "pdf = pd.DataFrame()\n",
    "pdf['key'] = np.random.randint(0,2,size)\n",
    "pdf['val'] = np.random.randint(0,7,size)\n",
    "\n",
    "\n",
    "def mult(df):\n",
    "  df['out'] = df['key'] * df['val'] - 10\n",
    "  return df\n",
    "\n",
    "\n",
    "gdf = cudf.from_pandas(pdf)\n",
    "pandas_udf_groupby = time_it(lambda : pdf.groupby(['key']).apply(mult))\n",
    "cudf_udf_groupby = time_it(lambda : gdf.groupby(['key']).apply(mult))\n",
    "perf_df = pd.DataFrame(\n",
    "    {\n",
    "    \"cudf speed up v/s pandas\": [pandas_int_udf/cudf_int_udf, pandas_str_udf/cudf_str_udf, pandas_udf_groupby/cudf_udf_groupby],\n",
    "}, index=[\"int_udf\", \"str_udf\", \"groupby_udf\"])\n",
    "ax = perf_df.plot.bar(color='#7400ff', ylim=(1,20000), rot=0)\n",
    "ax.set_xlabel(\"UDFs\")\n",
    "ax.set_ylabel(\"Speedup\")\n",
    "ax.bar_label(ax.containers[0])"
   ]
  },
  {
   "cell_type": "code",
   "execution_count": null,
   "metadata": {},
   "outputs": [],
   "source": []
  }
 ],
 "metadata": {
  "kernelspec": {
   "display_name": "Python 3",
   "language": "python",
   "name": "python3"
  },
  "language_info": {
   "codemirror_mode": {
    "name": "ipython",
    "version": 3
   },
   "file_extension": ".py",
   "mimetype": "text/x-python",
   "name": "python",
   "nbconvert_exporter": "python",
   "pygments_lexer": "ipython3",
   "version": "3.10.8"
  },
  "orig_nbformat": 4,
  "vscode": {
   "interpreter": {
    "hash": "b4f3463dcc83b00b9c65791e378b11fabec52613a2a7831cd4af76c548ff6047"
   }
  }
 },
 "nbformat": 4,
 "nbformat_minor": 2
}
