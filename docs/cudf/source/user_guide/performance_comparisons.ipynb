{
  "cells": [
    {
      "attachments": {},
      "cell_type": "markdown",
      "metadata": {},
      "source": [
        "# Performance comparison"
      ]
    },
    {
      "cell_type": "code",
      "execution_count": 1,
      "metadata": {},
      "outputs": [],
      "source": [
        "import cudf\n",
        "import pandas as pd\n",
        "import numpy as np\n",
        "import time\n",
        "from io import BytesIO\n",
        "import os\n",
        "import timeit"
      ]
    },
    {
      "cell_type": "code",
      "execution_count": 2,
      "metadata": {},
      "outputs": [],
      "source": [
        "np.random.seed(0)"
      ]
    },
    {
      "cell_type": "code",
      "execution_count": 3,
      "metadata": {},
      "outputs": [],
      "source": [
        "pdf = pd.DataFrame({\n",
        "    \"numbers\": np.random.randint(-1000, 1000, 30_000_0000, dtype='int64'),\n",
        "    \"business\": np.random.choice([\"McD\", \"Buckees\", \"Walmart\", \"Costco\"], size=30_000_0000)\n",
        "})"
      ]
    },
    {
      "cell_type": "code",
      "execution_count": 4,
      "metadata": {},
      "outputs": [
        {
          "data": {
            "text/html": [
              "<div>\n",
              "<style scoped>\n",
              "    .dataframe tbody tr th:only-of-type {\n",
              "        vertical-align: middle;\n",
              "    }\n",
              "\n",
              "    .dataframe tbody tr th {\n",
              "        vertical-align: top;\n",
              "    }\n",
              "\n",
              "    .dataframe thead th {\n",
              "        text-align: right;\n",
              "    }\n",
              "</style>\n",
              "<table border=\"1\" class=\"dataframe\">\n",
              "  <thead>\n",
              "    <tr style=\"text-align: right;\">\n",
              "      <th></th>\n",
              "      <th>numbers</th>\n",
              "      <th>business</th>\n",
              "    </tr>\n",
              "  </thead>\n",
              "  <tbody>\n",
              "    <tr>\n",
              "      <th>0</th>\n",
              "      <td>-316</td>\n",
              "      <td>Costco</td>\n",
              "    </tr>\n",
              "    <tr>\n",
              "      <th>1</th>\n",
              "      <td>-441</td>\n",
              "      <td>Costco</td>\n",
              "    </tr>\n",
              "    <tr>\n",
              "      <th>2</th>\n",
              "      <td>653</td>\n",
              "      <td>Buckees</td>\n",
              "    </tr>\n",
              "    <tr>\n",
              "      <th>3</th>\n",
              "      <td>216</td>\n",
              "      <td>Buckees</td>\n",
              "    </tr>\n",
              "    <tr>\n",
              "      <th>4</th>\n",
              "      <td>-165</td>\n",
              "      <td>Walmart</td>\n",
              "    </tr>\n",
              "    <tr>\n",
              "      <th>...</th>\n",
              "      <td>...</td>\n",
              "      <td>...</td>\n",
              "    </tr>\n",
              "    <tr>\n",
              "      <th>299999995</th>\n",
              "      <td>-395</td>\n",
              "      <td>Walmart</td>\n",
              "    </tr>\n",
              "    <tr>\n",
              "      <th>299999996</th>\n",
              "      <td>-653</td>\n",
              "      <td>Buckees</td>\n",
              "    </tr>\n",
              "    <tr>\n",
              "      <th>299999997</th>\n",
              "      <td>364</td>\n",
              "      <td>Buckees</td>\n",
              "    </tr>\n",
              "    <tr>\n",
              "      <th>299999998</th>\n",
              "      <td>159</td>\n",
              "      <td>Buckees</td>\n",
              "    </tr>\n",
              "    <tr>\n",
              "      <th>299999999</th>\n",
              "      <td>-501</td>\n",
              "      <td>Walmart</td>\n",
              "    </tr>\n",
              "  </tbody>\n",
              "</table>\n",
              "<p>300000000 rows × 2 columns</p>\n",
              "</div>"
            ],
            "text/plain": [
              "           numbers business\n",
              "0             -316   Costco\n",
              "1             -441   Costco\n",
              "2              653  Buckees\n",
              "3              216  Buckees\n",
              "4             -165  Walmart\n",
              "...            ...      ...\n",
              "299999995     -395  Walmart\n",
              "299999996     -653  Buckees\n",
              "299999997      364  Buckees\n",
              "299999998      159  Buckees\n",
              "299999999     -501  Walmart\n",
              "\n",
              "[300000000 rows x 2 columns]"
            ]
          },
          "execution_count": 4,
          "metadata": {},
          "output_type": "execute_result"
        }
      ],
      "source": [
        "pdf"
      ]
    },
    {
      "cell_type": "code",
      "execution_count": 5,
      "metadata": {},
      "outputs": [],
      "source": [
        "gdf = cudf.from_pandas(pdf)"
      ]
    },
    {
      "cell_type": "code",
      "execution_count": 6,
      "metadata": {},
      "outputs": [
        {
          "data": {
            "text/html": [
              "<div>\n",
              "<style scoped>\n",
              "    .dataframe tbody tr th:only-of-type {\n",
              "        vertical-align: middle;\n",
              "    }\n",
              "\n",
              "    .dataframe tbody tr th {\n",
              "        vertical-align: top;\n",
              "    }\n",
              "\n",
              "    .dataframe thead th {\n",
              "        text-align: right;\n",
              "    }\n",
              "</style>\n",
              "<table border=\"1\" class=\"dataframe\">\n",
              "  <thead>\n",
              "    <tr style=\"text-align: right;\">\n",
              "      <th></th>\n",
              "      <th>numbers</th>\n",
              "      <th>business</th>\n",
              "    </tr>\n",
              "  </thead>\n",
              "  <tbody>\n",
              "    <tr>\n",
              "      <th>0</th>\n",
              "      <td>-316</td>\n",
              "      <td>Costco</td>\n",
              "    </tr>\n",
              "    <tr>\n",
              "      <th>1</th>\n",
              "      <td>-441</td>\n",
              "      <td>Costco</td>\n",
              "    </tr>\n",
              "    <tr>\n",
              "      <th>2</th>\n",
              "      <td>653</td>\n",
              "      <td>Buckees</td>\n",
              "    </tr>\n",
              "    <tr>\n",
              "      <th>3</th>\n",
              "      <td>216</td>\n",
              "      <td>Buckees</td>\n",
              "    </tr>\n",
              "    <tr>\n",
              "      <th>4</th>\n",
              "      <td>-165</td>\n",
              "      <td>Walmart</td>\n",
              "    </tr>\n",
              "    <tr>\n",
              "      <th>...</th>\n",
              "      <td>...</td>\n",
              "      <td>...</td>\n",
              "    </tr>\n",
              "    <tr>\n",
              "      <th>299999995</th>\n",
              "      <td>-395</td>\n",
              "      <td>Walmart</td>\n",
              "    </tr>\n",
              "    <tr>\n",
              "      <th>299999996</th>\n",
              "      <td>-653</td>\n",
              "      <td>Buckees</td>\n",
              "    </tr>\n",
              "    <tr>\n",
              "      <th>299999997</th>\n",
              "      <td>364</td>\n",
              "      <td>Buckees</td>\n",
              "    </tr>\n",
              "    <tr>\n",
              "      <th>299999998</th>\n",
              "      <td>159</td>\n",
              "      <td>Buckees</td>\n",
              "    </tr>\n",
              "    <tr>\n",
              "      <th>299999999</th>\n",
              "      <td>-501</td>\n",
              "      <td>Walmart</td>\n",
              "    </tr>\n",
              "  </tbody>\n",
              "</table>\n",
              "<p>300000000 rows × 2 columns</p>\n",
              "</div>"
            ],
            "text/plain": [
              "           numbers business\n",
              "0             -316   Costco\n",
              "1             -441   Costco\n",
              "2              653  Buckees\n",
              "3              216  Buckees\n",
              "4             -165  Walmart\n",
              "...            ...      ...\n",
              "299999995     -395  Walmart\n",
              "299999996     -653  Buckees\n",
              "299999997      364  Buckees\n",
              "299999998      159  Buckees\n",
              "299999999     -501  Walmart\n",
              "\n",
              "[300000000 rows x 2 columns]"
            ]
          },
          "execution_count": 6,
          "metadata": {},
          "output_type": "execute_result"
        }
      ],
      "source": [
        "gdf"
      ]
    },
    {
      "cell_type": "code",
      "execution_count": 7,
      "metadata": {},
      "outputs": [],
      "source": [
        "pandas_pq = BytesIO()"
      ]
    },
    {
      "cell_type": "code",
      "execution_count": 8,
      "metadata": {},
      "outputs": [],
      "source": [
        "pandas_to_parquet = timeit.timeit(lambda : pdf.to_parquet(BytesIO()), number=30)"
      ]
    },
    {
      "cell_type": "code",
      "execution_count": 9,
      "metadata": {},
      "outputs": [],
      "source": [
        "cudf_pq = BytesIO()"
      ]
    },
    {
      "cell_type": "code",
      "execution_count": 10,
      "metadata": {},
      "outputs": [],
      "source": [
        "cudf_to_parquet = timeit.timeit(lambda : gdf.to_parquet(BytesIO()), number=30)"
      ]
    },
    {
      "cell_type": "code",
      "execution_count": 11,
      "metadata": {},
      "outputs": [],
      "source": [
        "pdf.to_parquet(pandas_pq)\n",
        "gdf.to_parquet(cudf_pq)"
      ]
    },
    {
      "cell_type": "code",
      "execution_count": 12,
      "metadata": {},
      "outputs": [
        {
          "name": "stderr",
          "output_type": "stream",
          "text": [
            "sysctl: setting key \"vm.drop_caches\", ignoring: Read-only file system\n"
          ]
        }
      ],
      "source": [
        "os.system(\"/sbin/sysctl vm.drop_caches=3\")\n",
        "pandas_read_parquet = timeit.timeit(lambda : pd.read_parquet(pandas_pq), number=30)"
      ]
    },
    {
      "cell_type": "code",
      "execution_count": 13,
      "metadata": {},
      "outputs": [
        {
          "name": "stderr",
          "output_type": "stream",
          "text": [
            "sysctl: setting key \"vm.drop_caches\", ignoring: Read-only file system\n"
          ]
        }
      ],
      "source": [
        "os.system(\"/sbin/sysctl vm.drop_caches=3\")\n",
        "cudf_read_parquet = timeit.timeit(lambda : cudf.read_parquet(cudf_pq), number=30)"
      ]
    },
    {
      "cell_type": "code",
      "execution_count": 14,
      "metadata": {},
      "outputs": [],
      "source": [
        "pdf = pdf.head(10_000_0000)\n",
        "gdf = gdf.head(10_000_0000)"
      ]
    },
    {
      "cell_type": "code",
      "execution_count": 15,
      "metadata": {},
      "outputs": [],
      "source": [
        "def to_csv_bench(df):\n",
        "    file_obj = BytesIO()\n",
        "    df.to_csv(file_obj)"
      ]
    },
    {
      "cell_type": "code",
      "execution_count": 16,
      "metadata": {},
      "outputs": [],
      "source": [
        "pandas_to_csv = timeit.timeit(lambda : to_csv_bench(pdf), number=30)"
      ]
    },
    {
      "cell_type": "code",
      "execution_count": 17,
      "metadata": {},
      "outputs": [],
      "source": [
        "cudf_to_csv = timeit.timeit(lambda : to_csv_bench(gdf), number=30)"
      ]
    },
    {
      "cell_type": "code",
      "execution_count": 18,
      "metadata": {},
      "outputs": [],
      "source": [
        "pandas_csv = BytesIO()\n",
        "cudf_csv = BytesIO()\n",
        "pdf.to_csv(pandas_csv)\n",
        "gdf.to_csv(cudf_csv)"
      ]
    },
    {
      "cell_type": "code",
      "execution_count": 19,
      "metadata": {},
      "outputs": [],
      "source": [
        "def read_csv_bench(pkg, file_obj):\n",
        "    file_obj.seek(0)\n",
        "    pkg.read_csv(file_obj)"
      ]
    },
    {
      "cell_type": "code",
      "execution_count": 20,
      "metadata": {},
      "outputs": [
        {
          "name": "stderr",
          "output_type": "stream",
          "text": [
            "sysctl: setting key \"vm.drop_caches\", ignoring: Read-only file system\n"
          ]
        }
      ],
      "source": [
        "os.system(\"/sbin/sysctl vm.drop_caches=3\")\n",
        "pandas_read_csv = timeit.timeit(lambda : read_csv_bench(pd, pandas_csv), number=30)"
      ]
    },
    {
      "cell_type": "code",
      "execution_count": 21,
      "metadata": {},
      "outputs": [
        {
          "name": "stderr",
          "output_type": "stream",
          "text": [
            "sysctl: setting key \"vm.drop_caches\", ignoring: Read-only file system\n"
          ]
        }
      ],
      "source": [
        "os.system(\"/sbin/sysctl vm.drop_caches=3\")\n",
        "cudf_read_csv = timeit.timeit(lambda : read_csv_bench(cudf, cudf_csv), number=30)"
      ]
    },
    {
      "cell_type": "code",
      "execution_count": 22,
      "metadata": {},
      "outputs": [],
      "source": [
        "pandas_groupby = timeit.timeit(lambda : pdf.groupby(\"business\").agg([\"min\", \"max\", \"mean\"]), number=30)"
      ]
    },
    {
      "cell_type": "code",
      "execution_count": 23,
      "metadata": {},
      "outputs": [],
      "source": [
        "cudf_groupby = timeit.timeit(lambda : gdf.groupby(\"business\").agg([\"min\", \"max\", \"mean\"]), number=30)"
      ]
    },
    {
      "cell_type": "code",
      "execution_count": 24,
      "metadata": {},
      "outputs": [],
      "source": [
        "pdf = pd.DataFrame({\n",
        "    \"numbers\": np.random.randint(-1000, 1000, 1_000_000, dtype='int64'),\n",
        "    \"business\": np.random.choice([\"McD\", \"Buckees\", \"Walmart\", \"Costco\"], size=1_000_000)\n",
        "})\n",
        "gdf = cudf.from_pandas(pdf)"
      ]
    },
    {
      "cell_type": "code",
      "execution_count": 25,
      "metadata": {},
      "outputs": [],
      "source": [
        "pandas_merge = timeit.timeit(lambda : pdf.merge(pdf), number=30)"
      ]
    },
    {
      "cell_type": "code",
      "execution_count": 26,
      "metadata": {},
      "outputs": [],
      "source": [
        "cudf_merge = timeit.timeit(lambda : gdf.merge(gdf), number=30)"
      ]
    },
    {
      "cell_type": "code",
      "execution_count": 27,
      "metadata": {},
      "outputs": [],
      "source": [
        "import matplotlib.pyplot as plt"
      ]
    },
    {
      "cell_type": "code",
      "execution_count": 28,
      "metadata": {},
      "outputs": [],
      "source": [
        "perf_df = pd.DataFrame(\n",
        "    {\n",
        "        \"cudf speed up v/s pandas\": [pandas_to_parquet/cudf_to_parquet, pandas_read_parquet/cudf_read_parquet, pandas_to_csv/cudf_to_csv, pandas_read_csv/cudf_read_csv, pandas_groupby/cudf_groupby, pandas_merge/cudf_merge],\n",
        "}, index=[\"to_parquet\", \"read_parquet\", \"to_csv\", \"read_csv\", \"groupby\", \"merge\"]).astype('int')"
      ]
    },
    {
      "cell_type": "code",
      "execution_count": 29,
      "metadata": {},
      "outputs": [
        {
          "data": {
            "text/html": [
              "<div>\n",
              "<style scoped>\n",
              "    .dataframe tbody tr th:only-of-type {\n",
              "        vertical-align: middle;\n",
              "    }\n",
              "\n",
              "    .dataframe tbody tr th {\n",
              "        vertical-align: top;\n",
              "    }\n",
              "\n",
              "    .dataframe thead th {\n",
              "        text-align: right;\n",
              "    }\n",
              "</style>\n",
              "<table border=\"1\" class=\"dataframe\">\n",
              "  <thead>\n",
              "    <tr style=\"text-align: right;\">\n",
              "      <th></th>\n",
              "      <th>cudf speed up v/s pandas</th>\n",
              "    </tr>\n",
              "  </thead>\n",
              "  <tbody>\n",
              "    <tr>\n",
              "      <th>to_parquet</th>\n",
              "      <td>26</td>\n",
              "    </tr>\n",
              "    <tr>\n",
              "      <th>read_parquet</th>\n",
              "      <td>62</td>\n",
              "    </tr>\n",
              "    <tr>\n",
              "      <th>to_csv</th>\n",
              "      <td>55</td>\n",
              "    </tr>\n",
              "    <tr>\n",
              "      <th>read_csv</th>\n",
              "      <td>25</td>\n",
              "    </tr>\n",
              "    <tr>\n",
              "      <th>groupby</th>\n",
              "      <td>143</td>\n",
              "    </tr>\n",
              "    <tr>\n",
              "      <th>merge</th>\n",
              "      <td>131</td>\n",
              "    </tr>\n",
              "  </tbody>\n",
              "</table>\n",
              "</div>"
            ],
            "text/plain": [
              "              cudf speed up v/s pandas\n",
              "to_parquet                          26\n",
              "read_parquet                        62\n",
              "to_csv                              55\n",
              "read_csv                            25\n",
              "groupby                            143\n",
              "merge                              131"
            ]
          },
          "execution_count": 29,
          "metadata": {},
          "output_type": "execute_result"
        }
      ],
      "source": [
        "perf_df"
      ]
    },
    {
      "attachments": {},
      "cell_type": "markdown",
      "metadata": {},
      "source": [
        "## IO & Joins performance"
      ]
    },
    {
      "cell_type": "code",
      "execution_count": 30,
      "metadata": {},
      "outputs": [
        {
          "data": {
            "text/plain": [
              "[Text(0, 0, '26'),\n",
              " Text(0, 0, '62'),\n",
              " Text(0, 0, '55'),\n",
              " Text(0, 0, '25'),\n",
              " Text(0, 0, '143'),\n",
              " Text(0, 0, '131')]"
            ]
          },
          "execution_count": 30,
          "metadata": {},
          "output_type": "execute_result"
        },
        {
          "data": {
            "image/png": "[encoded data removed]",
            "text/plain": [
              "<Figure size 640x480 with 1 Axes>"
            ]
          },
          "metadata": {},
          "output_type": "display_data"
        }
      ],
      "source": [
        "ax = perf_df.plot.bar(color='#7400ff', ylim=(1,200), rot=0)\n",
        "ax.set_xlabel(\"Operations\")\n",
        "ax.set_ylabel(\"Speedup factor\")\n",
        "ax.bar_label(ax.containers[0])"
      ]
    },
    {
      "cell_type": "code",
      "execution_count": 31,
      "metadata": {},
      "outputs": [],
      "source": [
        "# Cleaning up used memory for later benchmarks\n",
        "del pdf\n",
        "del gdf\n",
        "del cudf_csv\n",
        "del pandas_csv\n",
        "del pandas_pq\n",
        "del cudf_pq"
      ]
    },
    {
      "cell_type": "code",
      "execution_count": 32,
      "metadata": {},
      "outputs": [],
      "source": [
        "pd_series = pd.Series(np.random.choice([\"123\", \"56.234\", \"Walmart\", \"Costco\", \"rapids ai\"], size=30_000_0000))"
      ]
    },
    {
      "cell_type": "code",
      "execution_count": 33,
      "metadata": {},
      "outputs": [],
      "source": [
        "gd_series = cudf.from_pandas(pd_series)"
      ]
    },
    {
      "cell_type": "code",
      "execution_count": 34,
      "metadata": {},
      "outputs": [],
      "source": [
        "pandas_upper = timeit.timeit(lambda : pd_series.str.upper(), number=20)"
      ]
    },
    {
      "cell_type": "code",
      "execution_count": 35,
      "metadata": {},
      "outputs": [],
      "source": [
        "cudf_upper = timeit.timeit(lambda : gd_series.str.upper(), number=20)"
      ]
    },
    {
      "cell_type": "code",
      "execution_count": 36,
      "metadata": {},
      "outputs": [],
      "source": [
        "pandas_contains = timeit.timeit(lambda : pd_series.str.contains(r\"[0-9][a-z]\"), number=20)"
      ]
    },
    {
      "cell_type": "code",
      "execution_count": 37,
      "metadata": {},
      "outputs": [],
      "source": [
        "cudf_contains = timeit.timeit(lambda : gd_series.str.contains(r\"[0-9][a-z]\"), number=20)"
      ]
    },
    {
      "cell_type": "code",
      "execution_count": 38,
      "metadata": {},
      "outputs": [],
      "source": [
        "pandas_isalpha = timeit.timeit(lambda : pd_series.str.isalpha(), number=20)"
      ]
    },
    {
      "cell_type": "code",
      "execution_count": 39,
      "metadata": {},
      "outputs": [],
      "source": [
        "cudf_isalpha = timeit.timeit(lambda : gd_series.str.isalpha(), number=20)"
      ]
    },
    {
      "cell_type": "code",
      "execution_count": 40,
      "metadata": {},
      "outputs": [],
      "source": [
        "perf_df = pd.DataFrame(\n",
        "    {\n",
        "        \"cudf speed up v/s pandas\": [pandas_upper/cudf_upper, pandas_contains/cudf_contains, pandas_isalpha/cudf_isalpha],\n",
        "    },\n",
        "    index=[\"upper\", \"contains\", \"is_alpha\"]\n",
        ").astype('int')"
      ]
    },
    {
      "cell_type": "code",
      "execution_count": 41,
      "metadata": {},
      "outputs": [
        {
          "data": {
            "text/html": [
              "<div>\n",
              "<style scoped>\n",
              "    .dataframe tbody tr th:only-of-type {\n",
              "        vertical-align: middle;\n",
              "    }\n",
              "\n",
              "    .dataframe tbody tr th {\n",
              "        vertical-align: top;\n",
              "    }\n",
              "\n",
              "    .dataframe thead th {\n",
              "        text-align: right;\n",
              "    }\n",
              "</style>\n",
              "<table border=\"1\" class=\"dataframe\">\n",
              "  <thead>\n",
              "    <tr style=\"text-align: right;\">\n",
              "      <th></th>\n",
              "      <th>cudf speed up v/s pandas</th>\n",
              "    </tr>\n",
              "  </thead>\n",
              "  <tbody>\n",
              "    <tr>\n",
              "      <th>upper</th>\n",
              "      <td>1763</td>\n",
              "    </tr>\n",
              "    <tr>\n",
              "      <th>contains</th>\n",
              "      <td>1315</td>\n",
              "    </tr>\n",
              "    <tr>\n",
              "      <th>is_alpha</th>\n",
              "      <td>5201</td>\n",
              "    </tr>\n",
              "  </tbody>\n",
              "</table>\n",
              "</div>"
            ],
            "text/plain": [
              "          cudf speed up v/s pandas\n",
              "upper                         1763\n",
              "contains                      1315\n",
              "is_alpha                      5201"
            ]
          },
          "execution_count": 41,
          "metadata": {},
          "output_type": "execute_result"
        }
      ],
      "source": [
        "perf_df"
      ]
    },
    {
      "attachments": {},
      "cell_type": "markdown",
      "metadata": {},
      "source": [
        "## Strings Performance"
      ]
    },
    {
      "cell_type": "code",
      "execution_count": 42,
      "metadata": {},
      "outputs": [
        {
          "data": {
            "text/plain": [
              "[Text(0, 0, '1763'), Text(0, 0, '1315'), Text(0, 0, '5201')]"
            ]
          },
          "execution_count": 42,
          "metadata": {},
          "output_type": "execute_result"
        },
        {
          "data": {
            "image/png": "[encoded data removed]",
            "text/plain": [
              "<Figure size 640x480 with 1 Axes>"
            ]
          },
          "metadata": {},
          "output_type": "display_data"
        }
      ],
      "source": [
        "ax = perf_df.plot.bar(color='#7400ff', ylim=(1,6000), rot=0)\n",
        "ax.set_xlabel(\"String APIs\")\n",
        "ax.set_ylabel(\"Speedup\")\n",
        "ax.bar_label(ax.containers[0])"
      ]
    },
    {
      "cell_type": "code",
      "execution_count": 43,
      "metadata": {},
      "outputs": [],
      "source": [
        "size = 10_000_000\n",
        "pdf = pd.DataFrame({\n",
        "    'age': np.random.randint(0,100,size),\n",
        "})"
      ]
    },
    {
      "cell_type": "code",
      "execution_count": 44,
      "metadata": {},
      "outputs": [],
      "source": [
        "def f(row):\n",
        "    if row['age'] < 18:\n",
        "        return 0\n",
        "    elif 18 <= row['age'] < 20:\n",
        "        return 1\n",
        "    elif 20 <= row['age'] < 30:\n",
        "        return 2\n",
        "    elif 30 <= row['age'] < 40:\n",
        "        return 3\n",
        "    elif 40 <= row['age'] < 50:\n",
        "        return 4\n",
        "    elif 50 <= row['age'] < 60:\n",
        "        return 5\n",
        "    elif 60 <= row['age'] < 70:\n",
        "        return 6\n",
        "    else:\n",
        "        return 7"
      ]
    },
    {
      "cell_type": "code",
      "execution_count": 45,
      "metadata": {},
      "outputs": [],
      "source": [
        "gdf = cudf.from_pandas(pdf)"
      ]
    },
    {
      "cell_type": "code",
      "execution_count": 46,
      "metadata": {},
      "outputs": [],
      "source": [
        "pandas_int_udf = timeit.timeit(lambda : pdf.apply(f, axis=1), number=1)"
      ]
    },
    {
      "cell_type": "code",
      "execution_count": 47,
      "metadata": {},
      "outputs": [],
      "source": [
        "cudf_int_udf = timeit.timeit(lambda : gdf.apply(f, axis=1), number=1)"
      ]
    },
    {
      "cell_type": "code",
      "execution_count": 48,
      "metadata": {},
      "outputs": [],
      "source": [
        "def str_func(row):\n",
        "    if row.isupper():\n",
        "        return 0\n",
        "    else:\n",
        "        return 1"
      ]
    },
    {
      "cell_type": "code",
      "execution_count": 49,
      "metadata": {},
      "outputs": [],
      "source": [
        "pd_series = pd.Series(np.random.choice([\"ABC\", \"abc\", \"hello world\", \"AI\"], size=10_000_0000), name='strings')"
      ]
    },
    {
      "cell_type": "code",
      "execution_count": 50,
      "metadata": {},
      "outputs": [],
      "source": [
        "gd_series = cudf.from_pandas(pd_series)"
      ]
    },
    {
      "cell_type": "code",
      "execution_count": 51,
      "metadata": {},
      "outputs": [],
      "source": [
        "pandas_str_udf = timeit.timeit(lambda : pd_series.apply(str_func), number=1)"
      ]
    },
    {
      "cell_type": "code",
      "execution_count": 52,
      "metadata": {},
      "outputs": [],
      "source": [
        "cudf_str_udf = timeit.timeit(lambda : gd_series.apply(str_func), number=1)"
      ]
    },
    {
      "cell_type": "code",
      "execution_count": 53,
      "metadata": {},
      "outputs": [],
      "source": [
        "size = 10_000_0000\n",
        "pdf = pd.DataFrame()\n",
        "pdf['key'] = np.random.randint(0,2,size)\n",
        "pdf['val'] = np.random.randint(0,7,size)\n",
        "\n",
        "\n",
        "def mult(df):\n",
        "  df['out'] = df['key'] * df['val'] - 10\n",
        "  return df\n",
        "\n",
        "\n",
        "gdf = cudf.from_pandas(pdf)"
      ]
    },
    {
      "cell_type": "code",
      "execution_count": 54,
      "metadata": {},
      "outputs": [
        {
          "name": "stderr",
          "output_type": "stream",
          "text": [
            "/tmp/ipykernel_413/700186240.py:1: FutureWarning: Not prepending group keys to the result index of transform-like apply. In the future, the group keys will be included in the index, regardless of whether the applied function returns a like-indexed object.\n",
            "To preserve the previous behavior, use\n",
            "\n",
            "\t>>> .groupby(..., group_keys=False)\n",
            "\n",
            "To adopt the future behavior and silence this warning, use \n",
            "\n",
            "\t>>> .groupby(..., group_keys=True)\n",
            "  pandas_udf_groupby = timeit.timeit(lambda : pdf.groupby(['key']).apply(mult), number=1)\n"
          ]
        }
      ],
      "source": [
        "pandas_udf_groupby = timeit.timeit(lambda : pdf.groupby(['key']).apply(mult), number=1)"
      ]
    },
    {
      "cell_type": "code",
      "execution_count": 55,
      "metadata": {},
      "outputs": [],
      "source": [
        "cudf_udf_groupby = timeit.timeit(lambda : gdf.groupby(['key']).apply(mult), number=1)"
      ]
    },
    {
      "cell_type": "code",
      "execution_count": 56,
      "metadata": {},
      "outputs": [],
      "source": [
        "perf_df = pd.DataFrame(\n",
        "    {\n",
        "    \"cudf speed up v/s pandas\": [pandas_int_udf/cudf_int_udf, \n",
        "                                 pandas_str_udf/cudf_str_udf,\n",
        "                                 pandas_udf_groupby/cudf_udf_groupby],\n",
        "}, index=[\"int_udf\", \n",
        "          \"str_udf\",\n",
        "          \"groupby_udf\"]).astype('int')"
      ]
    },
    {
      "cell_type": "code",
      "execution_count": 57,
      "metadata": {},
      "outputs": [
        {
          "data": {
            "text/html": [
              "<div>\n",
              "<style scoped>\n",
              "    .dataframe tbody tr th:only-of-type {\n",
              "        vertical-align: middle;\n",
              "    }\n",
              "\n",
              "    .dataframe tbody tr th {\n",
              "        vertical-align: top;\n",
              "    }\n",
              "\n",
              "    .dataframe thead th {\n",
              "        text-align: right;\n",
              "    }\n",
              "</style>\n",
              "<table border=\"1\" class=\"dataframe\">\n",
              "  <thead>\n",
              "    <tr style=\"text-align: right;\">\n",
              "      <th></th>\n",
              "      <th>cudf speed up v/s pandas</th>\n",
              "    </tr>\n",
              "  </thead>\n",
              "  <tbody>\n",
              "    <tr>\n",
              "      <th>int_udf</th>\n",
              "      <td>60</td>\n",
              "    </tr>\n",
              "    <tr>\n",
              "      <th>str_udf</th>\n",
              "      <td>199</td>\n",
              "    </tr>\n",
              "    <tr>\n",
              "      <th>groupby_udf</th>\n",
              "      <td>449</td>\n",
              "    </tr>\n",
              "  </tbody>\n",
              "</table>\n",
              "</div>"
            ],
            "text/plain": [
              "             cudf speed up v/s pandas\n",
              "int_udf                            60\n",
              "str_udf                           199\n",
              "groupby_udf                       449"
            ]
          },
          "execution_count": 57,
          "metadata": {},
          "output_type": "execute_result"
        }
      ],
      "source": [
        "perf_df"
      ]
    },
    {
      "attachments": {},
      "cell_type": "markdown",
      "metadata": {},
      "source": [
        "## UDF performance (with JIT overhead)"
      ]
    },
    {
      "attachments": {},
      "cell_type": "markdown",
      "metadata": {},
      "source": [
        "The first UDF runs include JIT compilation overhead, due to which the performance of 1st run and average of next few runs are compared separately."
      ]
    },
    {
      "cell_type": "code",
      "execution_count": 58,
      "metadata": {},
      "outputs": [
        {
          "data": {
            "text/plain": [
              "[Text(0, 0, '60'), Text(0, 0, '199'), Text(0, 0, '449')]"
            ]
          },
          "execution_count": 58,
          "metadata": {},
          "output_type": "execute_result"
        },
        {
          "data": {
            "image/png": "[encoded data removed]",
            "text/plain": [
              "<Figure size 640x480 with 1 Axes>"
            ]
          },
          "metadata": {},
          "output_type": "display_data"
        }
      ],
      "source": [
        "ax = perf_df.plot.bar(color='#7400ff', ylim=(1,500), rot=0)\n",
        "ax.set_xlabel(\"UDFs\")\n",
        "ax.set_ylabel(\"Speedup\")\n",
        "ax.bar_label(ax.containers[0])"
      ]
    },
    {
      "cell_type": "code",
      "execution_count": 62,
      "metadata": {},
      "outputs": [],
      "source": [
        "size = 10_000_000\n",
        "pdf = pd.DataFrame({\n",
        "    'age': np.random.randint(0,100,size),\n",
        "})"
      ]
    },
    {
      "cell_type": "code",
      "execution_count": 63,
      "metadata": {},
      "outputs": [],
      "source": [
        "def f(row):\n",
        "    if row['age'] < 18:\n",
        "        return 0\n",
        "    elif 18 <= row['age'] < 20:\n",
        "        return 1\n",
        "    elif 20 <= row['age'] < 30:\n",
        "        return 2\n",
        "    elif 30 <= row['age'] < 40:\n",
        "        return 3\n",
        "    elif 40 <= row['age'] < 50:\n",
        "        return 4\n",
        "    elif 50 <= row['age'] < 60:\n",
        "        return 5\n",
        "    elif 60 <= row['age'] < 70:\n",
        "        return 6\n",
        "    else:\n",
        "        return 7"
      ]
    },
    {
      "cell_type": "code",
      "execution_count": 64,
      "metadata": {},
      "outputs": [],
      "source": [
        "gdf = cudf.from_pandas(pdf)"
      ]
    },
    {
      "cell_type": "code",
      "execution_count": 65,
      "metadata": {},
      "outputs": [],
      "source": [
        "pandas_int_udf = timeit.timeit(lambda : pdf.apply(f, axis=1), number=10)"
      ]
    },
    {
      "cell_type": "code",
      "execution_count": 66,
      "metadata": {},
      "outputs": [],
      "source": [
        "cudf_int_udf = timeit.timeit(lambda : gdf.apply(f, axis=1), number=10)"
      ]
    },
    {
      "cell_type": "code",
      "execution_count": 67,
      "metadata": {},
      "outputs": [],
      "source": [
        "def str_func(row):\n",
        "    if row.isupper():\n",
        "        return 0\n",
        "    else:\n",
        "        return 1"
      ]
    },
    {
      "cell_type": "code",
      "execution_count": 68,
      "metadata": {},
      "outputs": [],
      "source": [
        "pd_series = pd.Series(np.random.choice([\"ABC\", \"abc\", \"hello world\", \"AI\"], size=10_000_0000), name='strings')"
      ]
    },
    {
      "cell_type": "code",
      "execution_count": 69,
      "metadata": {},
      "outputs": [],
      "source": [
        "gd_series = cudf.from_pandas(pd_series)"
      ]
    },
    {
      "cell_type": "code",
      "execution_count": 70,
      "metadata": {},
      "outputs": [],
      "source": [
        "pandas_str_udf = timeit.timeit(lambda : pd_series.apply(str_func), number=10)"
      ]
    },
    {
      "cell_type": "code",
      "execution_count": 71,
      "metadata": {},
      "outputs": [],
      "source": [
        "cudf_str_udf = timeit.timeit(lambda : gd_series.apply(str_func), number=10)"
      ]
    },
    {
      "cell_type": "code",
      "execution_count": 72,
      "metadata": {},
      "outputs": [],
      "source": [
        "size = 10_000_0000\n",
        "pdf = pd.DataFrame()\n",
        "pdf['key'] = np.random.randint(0,2,size)\n",
        "pdf['val'] = np.random.randint(0,7,size)\n",
        "\n",
        "\n",
        "def mult(df):\n",
        "  df['out'] = df['key'] * df['val'] - 10\n",
        "  return df\n",
        "\n",
        "\n",
        "gdf = cudf.from_pandas(pdf)"
      ]
    },
    {
      "cell_type": "code",
      "execution_count": 73,
      "metadata": {},
      "outputs": [
        {
          "name": "stderr",
          "output_type": "stream",
          "text": [
            "/tmp/ipykernel_413/1960370463.py:1: FutureWarning: Not prepending group keys to the result index of transform-like apply. In the future, the group keys will be included in the index, regardless of whether the applied function returns a like-indexed object.\n",
            "To preserve the previous behavior, use\n",
            "\n",
            "\t>>> .groupby(..., group_keys=False)\n",
            "\n",
            "To adopt the future behavior and silence this warning, use \n",
            "\n",
            "\t>>> .groupby(..., group_keys=True)\n",
            "  pandas_udf_groupby = timeit.timeit(lambda : pdf.groupby(['key']).apply(mult), number=10)\n",
            "/tmp/ipykernel_413/1960370463.py:1: FutureWarning: Not prepending group keys to the result index of transform-like apply. In the future, the group keys will be included in the index, regardless of whether the applied function returns a like-indexed object.\n",
            "To preserve the previous behavior, use\n",
            "\n",
            "\t>>> .groupby(..., group_keys=False)\n",
            "\n",
            "To adopt the future behavior and silence this warning, use \n",
            "\n",
            "\t>>> .groupby(..., group_keys=True)\n",
            "  pandas_udf_groupby = timeit.timeit(lambda : pdf.groupby(['key']).apply(mult), number=10)\n",
            "/tmp/ipykernel_413/1960370463.py:1: FutureWarning: Not prepending group keys to the result index of transform-like apply. In the future, the group keys will be included in the index, regardless of whether the applied function returns a like-indexed object.\n",
            "To preserve the previous behavior, use\n",
            "\n",
            "\t>>> .groupby(..., group_keys=False)\n",
            "\n",
            "To adopt the future behavior and silence this warning, use \n",
            "\n",
            "\t>>> .groupby(..., group_keys=True)\n",
            "  pandas_udf_groupby = timeit.timeit(lambda : pdf.groupby(['key']).apply(mult), number=10)\n",
            "/tmp/ipykernel_413/1960370463.py:1: FutureWarning: Not prepending group keys to the result index of transform-like apply. In the future, the group keys will be included in the index, regardless of whether the applied function returns a like-indexed object.\n",
            "To preserve the previous behavior, use\n",
            "\n",
            "\t>>> .groupby(..., group_keys=False)\n",
            "\n",
            "To adopt the future behavior and silence this warning, use \n",
            "\n",
            "\t>>> .groupby(..., group_keys=True)\n",
            "  pandas_udf_groupby = timeit.timeit(lambda : pdf.groupby(['key']).apply(mult), number=10)\n",
            "/tmp/ipykernel_413/1960370463.py:1: FutureWarning: Not prepending group keys to the result index of transform-like apply. In the future, the group keys will be included in the index, regardless of whether the applied function returns a like-indexed object.\n",
            "To preserve the previous behavior, use\n",
            "\n",
            "\t>>> .groupby(..., group_keys=False)\n",
            "\n",
            "To adopt the future behavior and silence this warning, use \n",
            "\n",
            "\t>>> .groupby(..., group_keys=True)\n",
            "  pandas_udf_groupby = timeit.timeit(lambda : pdf.groupby(['key']).apply(mult), number=10)\n",
            "/tmp/ipykernel_413/1960370463.py:1: FutureWarning: Not prepending group keys to the result index of transform-like apply. In the future, the group keys will be included in the index, regardless of whether the applied function returns a like-indexed object.\n",
            "To preserve the previous behavior, use\n",
            "\n",
            "\t>>> .groupby(..., group_keys=False)\n",
            "\n",
            "To adopt the future behavior and silence this warning, use \n",
            "\n",
            "\t>>> .groupby(..., group_keys=True)\n",
            "  pandas_udf_groupby = timeit.timeit(lambda : pdf.groupby(['key']).apply(mult), number=10)\n",
            "/tmp/ipykernel_413/1960370463.py:1: FutureWarning: Not prepending group keys to the result index of transform-like apply. In the future, the group keys will be included in the index, regardless of whether the applied function returns a like-indexed object.\n",
            "To preserve the previous behavior, use\n",
            "\n",
            "\t>>> .groupby(..., group_keys=False)\n",
            "\n",
            "To adopt the future behavior and silence this warning, use \n",
            "\n",
            "\t>>> .groupby(..., group_keys=True)\n",
            "  pandas_udf_groupby = timeit.timeit(lambda : pdf.groupby(['key']).apply(mult), number=10)\n",
            "/tmp/ipykernel_413/1960370463.py:1: FutureWarning: Not prepending group keys to the result index of transform-like apply. In the future, the group keys will be included in the index, regardless of whether the applied function returns a like-indexed object.\n",
            "To preserve the previous behavior, use\n",
            "\n",
            "\t>>> .groupby(..., group_keys=False)\n",
            "\n",
            "To adopt the future behavior and silence this warning, use \n",
            "\n",
            "\t>>> .groupby(..., group_keys=True)\n",
            "  pandas_udf_groupby = timeit.timeit(lambda : pdf.groupby(['key']).apply(mult), number=10)\n",
            "/tmp/ipykernel_413/1960370463.py:1: FutureWarning: Not prepending group keys to the result index of transform-like apply. In the future, the group keys will be included in the index, regardless of whether the applied function returns a like-indexed object.\n",
            "To preserve the previous behavior, use\n",
            "\n",
            "\t>>> .groupby(..., group_keys=False)\n",
            "\n",
            "To adopt the future behavior and silence this warning, use \n",
            "\n",
            "\t>>> .groupby(..., group_keys=True)\n",
            "  pandas_udf_groupby = timeit.timeit(lambda : pdf.groupby(['key']).apply(mult), number=10)\n",
            "/tmp/ipykernel_413/1960370463.py:1: FutureWarning: Not prepending group keys to the result index of transform-like apply. In the future, the group keys will be included in the index, regardless of whether the applied function returns a like-indexed object.\n",
            "To preserve the previous behavior, use\n",
            "\n",
            "\t>>> .groupby(..., group_keys=False)\n",
            "\n",
            "To adopt the future behavior and silence this warning, use \n",
            "\n",
            "\t>>> .groupby(..., group_keys=True)\n",
            "  pandas_udf_groupby = timeit.timeit(lambda : pdf.groupby(['key']).apply(mult), number=10)\n"
          ]
        }
      ],
      "source": [
        "pandas_udf_groupby = timeit.timeit(lambda : pdf.groupby(['key']).apply(mult), number=10)"
      ]
    },
    {
      "cell_type": "code",
      "execution_count": 74,
      "metadata": {},
      "outputs": [],
      "source": [
        "cudf_udf_groupby = timeit.timeit(lambda : gdf.groupby(['key']).apply(mult), number=10)"
      ]
    },
    {
      "cell_type": "code",
      "execution_count": 75,
      "metadata": {},
      "outputs": [],
      "source": [
        "perf_df = pd.DataFrame(\n",
        "    {\n",
        "    \"cudf speed up v/s pandas\": [pandas_int_udf/cudf_int_udf, \n",
        "                                 pandas_str_udf/cudf_str_udf,\n",
        "                                 pandas_udf_groupby/cudf_udf_groupby],\n",
        "}, index=[\"int_udf\", \n",
        "          \"str_udf\",\n",
        "          \"groupby_udf\"]).astype('int')"
      ]
    },
    {
      "cell_type": "code",
      "execution_count": 76,
      "metadata": {},
      "outputs": [
        {
          "data": {
            "text/html": [
              "<div>\n",
              "<style scoped>\n",
              "    .dataframe tbody tr th:only-of-type {\n",
              "        vertical-align: middle;\n",
              "    }\n",
              "\n",
              "    .dataframe tbody tr th {\n",
              "        vertical-align: top;\n",
              "    }\n",
              "\n",
              "    .dataframe thead th {\n",
              "        text-align: right;\n",
              "    }\n",
              "</style>\n",
              "<table border=\"1\" class=\"dataframe\">\n",
              "  <thead>\n",
              "    <tr style=\"text-align: right;\">\n",
              "      <th></th>\n",
              "      <th>cudf speed up v/s pandas</th>\n",
              "    </tr>\n",
              "  </thead>\n",
              "  <tbody>\n",
              "    <tr>\n",
              "      <th>int_udf</th>\n",
              "      <td>87212</td>\n",
              "    </tr>\n",
              "    <tr>\n",
              "      <th>str_udf</th>\n",
              "      <td>2374</td>\n",
              "    </tr>\n",
              "    <tr>\n",
              "      <th>groupby_udf</th>\n",
              "      <td>426</td>\n",
              "    </tr>\n",
              "  </tbody>\n",
              "</table>\n",
              "</div>"
            ],
            "text/plain": [
              "             cudf speed up v/s pandas\n",
              "int_udf                         87212\n",
              "str_udf                          2374\n",
              "groupby_udf                       426"
            ]
          },
          "execution_count": 76,
          "metadata": {},
          "output_type": "execute_result"
        }
      ],
      "source": [
        "perf_df"
      ]
    },
    {
      "attachments": {},
      "cell_type": "markdown",
      "metadata": {},
      "source": [
        "## UDF performance (without JIT overhead)"
      ]
    },
    {
      "cell_type": "code",
      "execution_count": 77,
      "metadata": {},
      "outputs": [
        {
          "data": {
            "text/plain": [
              "[Text(0, 0, '87212'), Text(0, 0, '2374'), Text(0, 0, '426')]"
            ]
          },
          "execution_count": 77,
          "metadata": {},
          "output_type": "execute_result"
        },
        {
          "data": {
            "image/png": "[encoded data removed]",
            "text/plain": [
              "<Figure size 640x480 with 1 Axes>"
            ]
          },
          "metadata": {},
          "output_type": "display_data"
        }
      ],
      "source": [
        "ax = perf_df.plot.bar(color='#7400ff', ylim=(1,100000), rot=0)\n",
        "ax.set_xlabel(\"UDFs\")\n",
        "ax.set_ylabel(\"Speedup\")\n",
        "ax.bar_label(ax.containers[0])"
      ]
    },
    {
      "cell_type": "markdown",
      "metadata": {},
      "source": [
        "# System Configuration"
      ]
    },
    {
      "attachments": {},
      "cell_type": "markdown",
      "metadata": {},
      "source": [
        "## CPU Configuration"
      ]
    },
    {
      "cell_type": "code",
      "execution_count": 78,
      "metadata": {},
      "outputs": [
        {
          "name": "stdout",
          "output_type": "stream",
          "text": [
            "Architecture:                    x86_64\n",
            "CPU op-mode(s):                  32-bit, 64-bit\n",
            "Byte Order:                      Little Endian\n",
            "Address sizes:                   46 bits physical, 48 bits virtual\n",
            "CPU(s):                          80\n",
            "On-line CPU(s) list:             0-79\n",
            "Thread(s) per core:              2\n",
            "Core(s) per socket:              20\n",
            "Socket(s):                       2\n",
            "NUMA node(s):                    2\n",
            "Vendor ID:                       GenuineIntel\n",
            "CPU family:                      6\n",
            "Model:                           85\n",
            "Model name:                      Intel(R) Xeon(R) Gold 6230 CPU @ 2.10GHz\n",
            "Stepping:                        7\n",
            "CPU MHz:                         800.049\n",
            "CPU max MHz:                     3900.0000\n",
            "CPU min MHz:                     800.0000\n",
            "BogoMIPS:                        4200.00\n",
            "Virtualization:                  VT-x\n",
            "L1d cache:                       1.3 MiB\n",
            "L1i cache:                       1.3 MiB\n",
            "L2 cache:                        40 MiB\n",
            "L3 cache:                        55 MiB\n",
            "NUMA node0 CPU(s):               0-19,40-59\n",
            "NUMA node1 CPU(s):               20-39,60-79\n",
            "Vulnerability Itlb multihit:     KVM: Mitigation: Split huge pages\n",
            "Vulnerability L1tf:              Not affected\n",
            "Vulnerability Mds:               Not affected\n",
            "Vulnerability Meltdown:          Not affected\n",
            "Vulnerability Spec store bypass: Mitigation; Speculative Store Bypass disabled v\n",
            "                                 ia prctl and seccomp\n",
            "Vulnerability Spectre v1:        Mitigation; usercopy/swapgs barriers and __user\n",
            "                                  pointer sanitization\n",
            "Vulnerability Spectre v2:        Mitigation; Enhanced IBRS, IBPB conditional, RS\n",
            "                                 B filling\n",
            "Vulnerability Srbds:             Not affected\n",
            "Vulnerability Tsx async abort:   Mitigation; TSX disabled\n",
            "Flags:                           fpu vme de pse tsc msr pae mce cx8 apic sep mtr\n",
            "                                 r pge mca cmov pat pse36 clflush dts acpi mmx f\n",
            "                                 xsr sse sse2 ss ht tm pbe syscall nx pdpe1gb rd\n",
            "                                 tscp lm constant_tsc art arch_perfmon pebs bts \n",
            "                                 rep_good nopl xtopology nonstop_tsc cpuid aperf\n",
            "                                 mperf pni pclmulqdq dtes64 monitor ds_cpl vmx s\n",
            "                                 mx est tm2 ssse3 sdbg fma cx16 xtpr pdcm pcid d\n",
            "                                 ca sse4_1 sse4_2 x2apic movbe popcnt tsc_deadli\n",
            "                                 ne_timer aes xsave avx f16c rdrand lahf_lm abm \n",
            "                                 3dnowprefetch cpuid_fault epb cat_l3 cdp_l3 inv\n",
            "                                 pcid_single intel_ppin ssbd mba ibrs ibpb stibp\n",
            "                                  ibrs_enhanced tpr_shadow vnmi flexpriority ept\n",
            "                                  vpid ept_ad fsgsbase tsc_adjust bmi1 avx2 smep\n",
            "                                  bmi2 erms invpcid cqm mpx rdt_a avx512f avx512\n",
            "                                 dq rdseed adx smap clflushopt clwb intel_pt avx\n",
            "                                 512cd avx512bw avx512vl xsaveopt xsavec xgetbv1\n",
            "                                  xsaves cqm_llc cqm_occup_llc cqm_mbm_total cqm\n",
            "                                 _mbm_local dtherm ida arat pln pts hwp hwp_act_\n",
            "                                 window hwp_epp hwp_pkg_req pku ospke avx512_vnn\n",
            "                                 i md_clear flush_l1d arch_capabilities\n"
          ]
        }
      ],
      "source": [
        "!lscpu"
      ]
    },
    {
      "attachments": {},
      "cell_type": "markdown",
      "metadata": {},
      "source": [
        "## GPU Configuration"
      ]
    },
    {
      "cell_type": "code",
      "execution_count": 79,
      "metadata": {},
      "outputs": [
        {
          "name": "stdout",
          "output_type": "stream",
          "text": [
            "Mon Feb  6 17:43:52 2023       \n",
            "+-----------------------------------------------------------------------------+\n",
            "| NVIDIA-SMI 525.60.04    Driver Version: 525.60.04    CUDA Version: 12.0     |\n",
            "|-------------------------------+----------------------+----------------------+\n",
            "| GPU  Name        Persistence-M| Bus-Id        Disp.A | Volatile Uncorr. ECC |\n",
            "| Fan  Temp  Perf  Pwr:Usage/Cap|         Memory-Usage | GPU-Util  Compute M. |\n",
            "|                               |                      |               MIG M. |\n",
            "|===============================+======================+======================|\n",
            "|   0  H100 80GB HBM2e     On   | 00000000:1E:00.0 Off |                    0 |\n",
            "| N/A   30C    P0    60W / 700W |      0MiB / 81559MiB |      0%      Default |\n",
            "|                               |                      |             Disabled |\n",
            "+-------------------------------+----------------------+----------------------+\n",
            "|   1  H100 80GB HBM2e     On   | 00000000:22:00.0 Off |                    0 |\n",
            "| N/A   30C    P0    60W / 700W |      0MiB / 81559MiB |      0%      Default |\n",
            "|                               |                      |             Disabled |\n",
            "+-------------------------------+----------------------+----------------------+\n",
            "                                                                               \n",
            "+-----------------------------------------------------------------------------+\n",
            "| Processes:                                                                  |\n",
            "|  GPU   GI   CI        PID   Type   Process name                  GPU Memory |\n",
            "|        ID   ID                                                   Usage      |\n",
            "|=============================================================================|\n",
            "|  No running processes found                                                 |\n",
            "+-----------------------------------------------------------------------------+\n"
          ]
        }
      ],
      "source": [
        "!nvidia-smi"
      ]
    },
    {
      "cell_type": "code",
      "execution_count": 80,
      "metadata": {},
      "outputs": [],
      "source": []
    }
  ],
  "metadata": {
    "kernelspec": {
      "display_name": "Python 3 (ipykernel)",
      "language": "python",
      "name": "python3"
    },
    "language_info": {
      "codemirror_mode": {
        "name": "ipython",
        "version": 3
      },
      "file_extension": ".py",
      "mimetype": "text/x-python",
      "name": "python",
      "nbconvert_exporter": "python",
      "pygments_lexer": "ipython3",
      "version": "3.10.9"
    },
    "vscode": {
      "interpreter": {
        "hash": "b4f3463dcc83b00b9c65791e378b11fabec52613a2a7831cd4af76c548ff6047"
      }
    }
  },
  "nbformat": 4,
  "nbformat_minor": 4
}
